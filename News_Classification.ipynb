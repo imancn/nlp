{
  "nbformat": 4,
  "nbformat_minor": 0,
  "metadata": {
    "colab": {
      "name": "News_Classification.ipynb",
      "provenance": [],
      "collapsed_sections": [],
      "include_colab_link": true
    },
    "kernelspec": {
      "name": "python3",
      "display_name": "Python 3"
    },
    "language_info": {
      "name": "python"
    },
    "gpuClass": "standard",
    "accelerator": "GPU"
  },
  "cells": [
    {
      "cell_type": "markdown",
      "metadata": {
        "id": "view-in-github",
        "colab_type": "text"
      },
      "source": [
        "<a href=\"https://colab.research.google.com/github/imancn/nlp/blob/main/News_Classification.ipynb\" target=\"_parent\"><img src=\"https://colab.research.google.com/assets/colab-badge.svg\" alt=\"Open In Colab\"/></a>"
      ]
    },
    {
      "cell_type": "code",
      "metadata": {
        "colab": {
          "base_uri": "https://localhost:8080/"
        },
        "id": "yxL8aBHk6hTJ",
        "outputId": "69dd5ae1-aaf8-421b-d913-211c7dd38949"
      },
      "source": [
        "from google.colab import drive\n",
        "drive.mount('/content/drive')"
      ],
      "execution_count": 1,
      "outputs": [
        {
          "output_type": "stream",
          "name": "stdout",
          "text": [
            "Drive already mounted at /content/drive; to attempt to forcibly remount, call drive.mount(\"/content/drive\", force_remount=True).\n"
          ]
        }
      ]
    },
    {
      "cell_type": "markdown",
      "metadata": {
        "id": "VixaKXhsDTAl"
      },
      "source": [
        "##import library"
      ]
    },
    {
      "cell_type": "code",
      "metadata": {
        "id": "8RWoM6uSA_yc",
        "colab": {
          "base_uri": "https://localhost:8080/"
        },
        "outputId": "36dee8e0-6500-43d4-ea50-29156e84d812"
      },
      "source": [
        "import pandas as pd\n",
        "import numpy as np\n",
        "import matplotlib.pyplot as plt\n",
        "import seaborn as sns\n",
        "\n",
        "import re\n",
        "import nltk\n",
        "from nltk.corpus import stopwords\n",
        "nltk.download('stopwords')\n",
        "from nltk.stem import PorterStemmer\n",
        "from nltk.stem import WordNetLemmatizer\n",
        "nltk.download('wordnet')\n",
        "from nltk.tokenize import word_tokenize\n",
        "from nltk.tokenize import sent_tokenize\n",
        "nltk.download('punkt')\n",
        "from wordcloud import WordCloud\n",
        "from sklearn.feature_extraction.text import CountVectorizer\n",
        "from sklearn.feature_extraction.text import TfidfVectorizer\n",
        "\n",
        "from sklearn.model_selection import train_test_split\n",
        "from sklearn.metrics import accuracy_score\n",
        "from sklearn.metrics import confusion_matrix\n",
        "from sklearn.metrics import classification_report\n",
        "from sklearn.metrics import make_scorer, roc_curve, roc_auc_score\n",
        "from sklearn.metrics import precision_recall_fscore_support as score\n",
        "from sklearn.metrics.pairwise import cosine_similarity\n",
        "\n",
        "from sklearn.multiclass import OneVsRestClassifier\n",
        "from sklearn.linear_model import LogisticRegression\n",
        "from sklearn.svm import SVC, LinearSVC\n",
        "from sklearn.tree import DecisionTreeClassifier\n",
        "from sklearn.ensemble import RandomForestClassifier\n",
        "from sklearn.neighbors import KNeighborsClassifier\n",
        "from sklearn.naive_bayes import GaussianNB,MultinomialNB,BernoulliNB\n"
      ],
      "execution_count": 2,
      "outputs": [
        {
          "output_type": "stream",
          "name": "stderr",
          "text": [
            "[nltk_data] Downloading package stopwords to /root/nltk_data...\n",
            "[nltk_data]   Package stopwords is already up-to-date!\n",
            "[nltk_data] Downloading package wordnet to /root/nltk_data...\n",
            "[nltk_data]   Package wordnet is already up-to-date!\n",
            "[nltk_data] Downloading package punkt to /root/nltk_data...\n",
            "[nltk_data]   Package punkt is already up-to-date!\n"
          ]
        }
      ]
    },
    {
      "cell_type": "markdown",
      "source": [
        "##extract from .txt file to .csv"
      ],
      "metadata": {
        "id": "RTE5gCt8OQH2"
      }
    },
    {
      "cell_type": "code",
      "source": [
        "file = \"/content/drive/MyDrive/Colab Notebooks/NLP/news-classification/content/Hamshahri-Corpus.txt\"\n",
        "f = open(\"/content/drive/MyDrive/Colab Notebooks/NLP/news-classification/content/Hamshahri-Corpus.csv\", \"w\")\n",
        "f.write(\"id,date,cat,text\\n\")\n",
        "with open(file,\"r\") as corpus:\n",
        "  id = \"\"\n",
        "  date = \"\" \n",
        "  cat = \"\"\n",
        "  text = \"\"\n",
        "  articleNumber = 0\n",
        "  i = 0;\n",
        "  for line in corpus:\n",
        "    if (line.startswith(\".DID\")):\n",
        "      if (i != 0):\n",
        "        f.write(id + \",\" + date + \",\" + cat + \",\\\"\" + text.strip() + \"\\\"\\n\")\n",
        "        articleNumber += 1\n",
        "        text = \"\"\n",
        "      id = line.split(\"\\t\")[1].strip()\n",
        "    elif (line.startswith(\".Date\")):\n",
        "      date = line.split(\"\\t\")[1].strip()\n",
        "    elif (line.startswith(\".Cat\")):\n",
        "      cat = line.split(\"\\t\")[1].strip()\n",
        "    else: \n",
        "      text += line.strip() + \" \"\n",
        "    i += 1\n",
        "    if (i > 1000000):\n",
        "      break\n",
        "print(\"\\'\" + str(articleNumber) + \"\\' articles has been extracted to csv file\")\n",
        "f.close()"
      ],
      "metadata": {
        "colab": {
          "base_uri": "https://localhost:8080/"
        },
        "id": "Dx1O-6oXOQhX",
        "outputId": "290f020e-0c71-456e-ffdf-1bdc51919283"
      },
      "execution_count": 3,
      "outputs": [
        {
          "output_type": "stream",
          "name": "stdout",
          "text": [
            "'27818' articles has been extracted to csv file\n"
          ]
        }
      ]
    },
    {
      "cell_type": "markdown",
      "metadata": {
        "id": "Ts7_IKqyMxEU"
      },
      "source": [
        "##import dataset"
      ]
    },
    {
      "cell_type": "code",
      "metadata": {
        "id": "pcDnCgJWDeiN"
      },
      "source": [
        "dataset = pd.read_csv(\"/content/drive/MyDrive/Colab Notebooks/NLP/news-classification/content/Hamshahri-Corpus.csv\")\n",
        "# test_set = pd.read_csv(\"/content/drive/MyDrive/Data_Sets/BBC News Test.csv\")"
      ],
      "execution_count": 4,
      "outputs": []
    },
    {
      "cell_type": "markdown",
      "metadata": {
        "id": "Ub6MZzMbOY8n"
      },
      "source": [
        "##print to show the dataset"
      ]
    },
    {
      "cell_type": "code",
      "metadata": {
        "colab": {
          "base_uri": "https://localhost:8080/",
          "height": 363
        },
        "id": "e7OpgheUEBJ7",
        "outputId": "6e2ecb8a-61e2-40b4-ee0e-52b69e057d66"
      },
      "source": [
        "dataset.head(10)"
      ],
      "execution_count": 31,
      "outputs": [
        {
          "output_type": "execute_result",
          "data": {
            "text/plain": [
              "     id      date    cat                                               text  \\\n",
              "0   1S1  75\\04\\02  adabh  جاودانگي در زندگي گروهي از طريق هنر نگاهي به ن...   \n",
              "1   2S1  75\\04\\02  adabh  رويدادهاي هنري جهان نمايشگاه هنر در خدمت ديكتا...   \n",
              "2   3S1  75\\04\\02  adabh  برديوار نگارخانه ها گالري گلستان  نمايشگاه طرح...   \n",
              "3   4S1  75\\04\\02  ejtem  بازي را جدي بگيريم مطالعه اي مقدماتي پيرامون ن...   \n",
              "4   5S1  75\\04\\02  elmfa  تخته سياه و غباري كه سترده نمي شود    اشاره  ب...   \n",
              "5   6S1  75\\04\\02  elmfa  احتمال اعتصاب آموزگاران در جمهوري آذربايجان به...   \n",
              "6   7S1  75\\04\\02  elmfa  ديدگاه خوانندگان تهديد و نتيجه تهديد توخالي  ه...   \n",
              "7   8S1  75\\04\\02  elmfa  اجتماع اعتراض آميز دانشجويان دانشگاه تبريز  سر...   \n",
              "8   9S1  75\\04\\02  elmfa  نقد يك تست كنكور هر سبزي  سبزي نيست  سوال شمار...   \n",
              "9  10S1  75\\04\\02  elmfa  دانش جغرافي دانش آموزان امريكايي در پايين ترين...   \n",
              "\n",
              "   catId  \n",
              "0      0  \n",
              "1      0  \n",
              "2      0  \n",
              "3      1  \n",
              "4      2  \n",
              "5      2  \n",
              "6      2  \n",
              "7      2  \n",
              "8      2  \n",
              "9      2  "
            ],
            "text/html": [
              "\n",
              "  <div id=\"df-07f6c290-ccff-4d37-ac2b-1a776118d2ff\">\n",
              "    <div class=\"colab-df-container\">\n",
              "      <div>\n",
              "<style scoped>\n",
              "    .dataframe tbody tr th:only-of-type {\n",
              "        vertical-align: middle;\n",
              "    }\n",
              "\n",
              "    .dataframe tbody tr th {\n",
              "        vertical-align: top;\n",
              "    }\n",
              "\n",
              "    .dataframe thead th {\n",
              "        text-align: right;\n",
              "    }\n",
              "</style>\n",
              "<table border=\"1\" class=\"dataframe\">\n",
              "  <thead>\n",
              "    <tr style=\"text-align: right;\">\n",
              "      <th></th>\n",
              "      <th>id</th>\n",
              "      <th>date</th>\n",
              "      <th>cat</th>\n",
              "      <th>text</th>\n",
              "      <th>catId</th>\n",
              "    </tr>\n",
              "  </thead>\n",
              "  <tbody>\n",
              "    <tr>\n",
              "      <th>0</th>\n",
              "      <td>1S1</td>\n",
              "      <td>75\\04\\02</td>\n",
              "      <td>adabh</td>\n",
              "      <td>جاودانگي در زندگي گروهي از طريق هنر نگاهي به ن...</td>\n",
              "      <td>0</td>\n",
              "    </tr>\n",
              "    <tr>\n",
              "      <th>1</th>\n",
              "      <td>2S1</td>\n",
              "      <td>75\\04\\02</td>\n",
              "      <td>adabh</td>\n",
              "      <td>رويدادهاي هنري جهان نمايشگاه هنر در خدمت ديكتا...</td>\n",
              "      <td>0</td>\n",
              "    </tr>\n",
              "    <tr>\n",
              "      <th>2</th>\n",
              "      <td>3S1</td>\n",
              "      <td>75\\04\\02</td>\n",
              "      <td>adabh</td>\n",
              "      <td>برديوار نگارخانه ها گالري گلستان  نمايشگاه طرح...</td>\n",
              "      <td>0</td>\n",
              "    </tr>\n",
              "    <tr>\n",
              "      <th>3</th>\n",
              "      <td>4S1</td>\n",
              "      <td>75\\04\\02</td>\n",
              "      <td>ejtem</td>\n",
              "      <td>بازي را جدي بگيريم مطالعه اي مقدماتي پيرامون ن...</td>\n",
              "      <td>1</td>\n",
              "    </tr>\n",
              "    <tr>\n",
              "      <th>4</th>\n",
              "      <td>5S1</td>\n",
              "      <td>75\\04\\02</td>\n",
              "      <td>elmfa</td>\n",
              "      <td>تخته سياه و غباري كه سترده نمي شود    اشاره  ب...</td>\n",
              "      <td>2</td>\n",
              "    </tr>\n",
              "    <tr>\n",
              "      <th>5</th>\n",
              "      <td>6S1</td>\n",
              "      <td>75\\04\\02</td>\n",
              "      <td>elmfa</td>\n",
              "      <td>احتمال اعتصاب آموزگاران در جمهوري آذربايجان به...</td>\n",
              "      <td>2</td>\n",
              "    </tr>\n",
              "    <tr>\n",
              "      <th>6</th>\n",
              "      <td>7S1</td>\n",
              "      <td>75\\04\\02</td>\n",
              "      <td>elmfa</td>\n",
              "      <td>ديدگاه خوانندگان تهديد و نتيجه تهديد توخالي  ه...</td>\n",
              "      <td>2</td>\n",
              "    </tr>\n",
              "    <tr>\n",
              "      <th>7</th>\n",
              "      <td>8S1</td>\n",
              "      <td>75\\04\\02</td>\n",
              "      <td>elmfa</td>\n",
              "      <td>اجتماع اعتراض آميز دانشجويان دانشگاه تبريز  سر...</td>\n",
              "      <td>2</td>\n",
              "    </tr>\n",
              "    <tr>\n",
              "      <th>8</th>\n",
              "      <td>9S1</td>\n",
              "      <td>75\\04\\02</td>\n",
              "      <td>elmfa</td>\n",
              "      <td>نقد يك تست كنكور هر سبزي  سبزي نيست  سوال شمار...</td>\n",
              "      <td>2</td>\n",
              "    </tr>\n",
              "    <tr>\n",
              "      <th>9</th>\n",
              "      <td>10S1</td>\n",
              "      <td>75\\04\\02</td>\n",
              "      <td>elmfa</td>\n",
              "      <td>دانش جغرافي دانش آموزان امريكايي در پايين ترين...</td>\n",
              "      <td>2</td>\n",
              "    </tr>\n",
              "  </tbody>\n",
              "</table>\n",
              "</div>\n",
              "      <button class=\"colab-df-convert\" onclick=\"convertToInteractive('df-07f6c290-ccff-4d37-ac2b-1a776118d2ff')\"\n",
              "              title=\"Convert this dataframe to an interactive table.\"\n",
              "              style=\"display:none;\">\n",
              "        \n",
              "  <svg xmlns=\"http://www.w3.org/2000/svg\" height=\"24px\"viewBox=\"0 0 24 24\"\n",
              "       width=\"24px\">\n",
              "    <path d=\"M0 0h24v24H0V0z\" fill=\"none\"/>\n",
              "    <path d=\"M18.56 5.44l.94 2.06.94-2.06 2.06-.94-2.06-.94-.94-2.06-.94 2.06-2.06.94zm-11 1L8.5 8.5l.94-2.06 2.06-.94-2.06-.94L8.5 2.5l-.94 2.06-2.06.94zm10 10l.94 2.06.94-2.06 2.06-.94-2.06-.94-.94-2.06-.94 2.06-2.06.94z\"/><path d=\"M17.41 7.96l-1.37-1.37c-.4-.4-.92-.59-1.43-.59-.52 0-1.04.2-1.43.59L10.3 9.45l-7.72 7.72c-.78.78-.78 2.05 0 2.83L4 21.41c.39.39.9.59 1.41.59.51 0 1.02-.2 1.41-.59l7.78-7.78 2.81-2.81c.8-.78.8-2.07 0-2.86zM5.41 20L4 18.59l7.72-7.72 1.47 1.35L5.41 20z\"/>\n",
              "  </svg>\n",
              "      </button>\n",
              "      \n",
              "  <style>\n",
              "    .colab-df-container {\n",
              "      display:flex;\n",
              "      flex-wrap:wrap;\n",
              "      gap: 12px;\n",
              "    }\n",
              "\n",
              "    .colab-df-convert {\n",
              "      background-color: #E8F0FE;\n",
              "      border: none;\n",
              "      border-radius: 50%;\n",
              "      cursor: pointer;\n",
              "      display: none;\n",
              "      fill: #1967D2;\n",
              "      height: 32px;\n",
              "      padding: 0 0 0 0;\n",
              "      width: 32px;\n",
              "    }\n",
              "\n",
              "    .colab-df-convert:hover {\n",
              "      background-color: #E2EBFA;\n",
              "      box-shadow: 0px 1px 2px rgba(60, 64, 67, 0.3), 0px 1px 3px 1px rgba(60, 64, 67, 0.15);\n",
              "      fill: #174EA6;\n",
              "    }\n",
              "\n",
              "    [theme=dark] .colab-df-convert {\n",
              "      background-color: #3B4455;\n",
              "      fill: #D2E3FC;\n",
              "    }\n",
              "\n",
              "    [theme=dark] .colab-df-convert:hover {\n",
              "      background-color: #434B5C;\n",
              "      box-shadow: 0px 1px 3px 1px rgba(0, 0, 0, 0.15);\n",
              "      filter: drop-shadow(0px 1px 2px rgba(0, 0, 0, 0.3));\n",
              "      fill: #FFFFFF;\n",
              "    }\n",
              "  </style>\n",
              "\n",
              "      <script>\n",
              "        const buttonEl =\n",
              "          document.querySelector('#df-07f6c290-ccff-4d37-ac2b-1a776118d2ff button.colab-df-convert');\n",
              "        buttonEl.style.display =\n",
              "          google.colab.kernel.accessAllowed ? 'block' : 'none';\n",
              "\n",
              "        async function convertToInteractive(key) {\n",
              "          const element = document.querySelector('#df-07f6c290-ccff-4d37-ac2b-1a776118d2ff');\n",
              "          const dataTable =\n",
              "            await google.colab.kernel.invokeFunction('convertToInteractive',\n",
              "                                                     [key], {});\n",
              "          if (!dataTable) return;\n",
              "\n",
              "          const docLinkHtml = 'Like what you see? Visit the ' +\n",
              "            '<a target=\"_blank\" href=https://colab.research.google.com/notebooks/data_table.ipynb>data table notebook</a>'\n",
              "            + ' to learn more about interactive tables.';\n",
              "          element.innerHTML = '';\n",
              "          dataTable['output_type'] = 'display_data';\n",
              "          await google.colab.output.renderOutput(dataTable, element);\n",
              "          const docLink = document.createElement('div');\n",
              "          docLink.innerHTML = docLinkHtml;\n",
              "          element.appendChild(docLink);\n",
              "        }\n",
              "      </script>\n",
              "    </div>\n",
              "  </div>\n",
              "  "
            ]
          },
          "metadata": {},
          "execution_count": 31
        }
      ]
    },
    {
      "cell_type": "markdown",
      "metadata": {
        "id": "6WNdedHUOdw3"
      },
      "source": [
        "##print to show the first text of dataset"
      ]
    },
    {
      "cell_type": "code",
      "metadata": {
        "colab": {
          "base_uri": "https://localhost:8080/"
        },
        "id": "gr4-wsk7L4Ez",
        "outputId": "57cede92-63ea-4d18-d517-9351c88c0d75"
      },
      "source": [
        "print(dataset['text'][0])\n",
        "print(dataset['text'][3])\n",
        "print(dataset['text'][6])\n",
        "print(dataset['text'][9])"
      ],
      "execution_count": 34,
      "outputs": [
        {
          "output_type": "stream",
          "name": "stdout",
          "text": [
            "جاودانگي در زندگي گروهي از طريق هنر نگاهي به نمايشگاه آثار هنري احمد طباطبايي موضوع آثار طباطبايي مورچگان هستند ولي در باطن چنين ظاهري  اين انسانهاهستند كه در هيبتي حشره گونه در تابلوهاي نقاشي نمايشگر گوشه هايي از زندگي خود هستند  مورچه اي را ديده ايم كه بار سنگين خودرا به دوش مي كشد و در بين راه خسته مي شود يا در نتيجه پيش آمدن يك حادثه اتفاقي بار از دستش رها شده و براي گريز از خطر آن را مي گذارد و فرار مي كند  اما ساعتي بعد به همان نقطه برمي گردد و بار را دوباره به دوش كشيده نفس زنان و عرق ريزان آن را به منزل او مي رساند مي داند كه اگر در ميان راه از بين رفت  يك مورچه ديگر با همان استعداد غريزه عملي را كه او شروع كرده به پايان مي رساند  پس او مي داند كه بعد از خودش نسل آينده اي وجود دارد كه بايد از مزاياي آن استفاده نمايد  چه داستان درازي  انتها و پاياني هم ميليونها ندارد سال گذشته  ميلياردها سال ديگر خواهد گذشت وهمين برنامه ميليونها بار ديگر تجديد مي شود  پس بايد گفت سير حيات و تكامل پايان ناپذير است  اسرار جهان پاياني ندارد  پس اگر بخواهيم به يك چيز پايان ناپذير برسيم چون انتهايي در بين نيست  به جايي نمي رسيم   از كتاب مورچگان  نوشته موريس مترلينگ   مورچگان در تابلوهاي نقاشي احمد طباطبايي جايگاه ويژه اي دارند  در نمايشگاهي كه از آثار اين هنرمند  اول تا 23 خرداد   در نگارخانه برگ برپا شد 36 اثر با اين موضوع به نمايش عمومي درآمد  طباطبايي در مدت 18 سالي كه به نقاشي مي پردازد همواره بر روي موضوع مورچگان كار كرده است  وي درباره علت انتخاب چنين سوژه اي مي گويد  در يكي از روزهاي زندگي خود بسيار غمگين بودم و زماني كه به خواب رفتم  مورچه اي را ديدم  سپس تصميم گرفتم طرح آن را بكشم  اين كار به نظرم جالب آمد و از آن روز به بعد اين نوع طراحي را ادامه دادم كه در هر بار نقاشي در اين مدلها تغييراتي را ايجاد مي كنم  ضمن اينكه اين حشره به دليل زندگي منظمي كه دارد  برايم جذاب است  نظم يكي از اركان آثار نقاشي طباطبايي است  عليرغم موضوعات ساده  تركيببندي دو بعدي و تنوع كم در رنگ آميزي سطوح  استحكام طرحها و نقوش بر روي پرده اثر نشان از نظمي دروني دارد  اين نظم خود را در آناتومي و اندام مورچگان به نوع ديگري نشان مي دهد  مشخصه اصلي مورچگان دست و پا و تقسيم بندي سه گانه بدن آنها است و مهمتر آنكه روي شش دست و پا راه مي روند  اما در نقاشيهاي طباطبايي آنها روي دو پا مثل انسان مي ايستند  سرهايشان بزرگترين اندام بدنشان است و چشمها به طور اغراق آميزي در سرجا گرفته است  هدف نقاش از اين تغييرات در اندام مورچگان  چيست باآنكه خود نقاش گفته و از نقاشيها استنباط مي شود  موضوع آثار طباطبايي مورچگان است اما در باطن چنين ظاهري  اين انسانها هستند كه در هيبتي حشره گونه در تابلوهاي نقاش نمايشگر گوشه هايي از زندگي خود هستند  آنها با اندام سياه خود در زمينه اي خاكستري بادكنكهاي رنگي به دست دارند و عروسي مي كنند  تغيير در اندام مورچگان باعث شده چهره و حالات سر و صورت تنها اندام بازگو كننده احساسات موضوع در تابلوي نقاشي نباشد بلكه تمام بدن اين مورچه   انسانهاحسي را پديد مي آورند كه در تابلو سايه مي اندازد  احساساتي نظير به دام افتادن در دام يك عنكبوت  مادري كردن  تفاهم و دوستي  نكته ديگر  نقاشي درختان به صورت اسليمي هاي ايراني در حاشيه تابلوها با خطوط و رنگهايي زنده و شاداب است  اين نقشها در تقابل بصري با مورچه   انسانهاست اما در يك هماهنگي دروني با مفهوم مورچه   انسانها به تصوير كشيده شده اند  رنگهاي شاد سبز با ميوه هاي سرخ  شكل انساني محيط را افزايش مي دهند اما اين مورچگان كه به طور گروهي در اين فضا به سر مي برند  يك اصل را مي دانند  جاودانگي در زندگي گروهي و انتقال احساسات به ديگران از طريق هنر است  همان راهي كه مترلينگ به آن اشاره كرد \n",
            "بازي را جدي بگيريم مطالعه اي مقدماتي پيرامون نقش بازي در زندگي اجتماعي و ساماندهي گردشگاهها حركت و شلوغ كردن جلوه اي ازلذت كودكانه است  سركوبومخالفت با جنب وجوش كودكان بتدريج آسيب رواني به بار مي آورد زمينهاي بازي بايد فعاليتهاي هنرمندانه و سازنده را در كنار بازيهاي پرتحرك تشويق و ترويج كند اشاره  چگونگي ساماندهي گذران اوقات فراغت و تامين فضاهاي فراغتي در شهرهاي بزرگ  روزبروز اهميت بيشتري در برنامه ريزي و طراحي شهري پيدا مي كند  اما اين موضوع با ابعاد مختلف اجتماعي  فرهنگي  كالبدي  فني و مديريتي روبرو است كه روند برنامه ريزي را دشوار مي سازد  از اين نظر آشنايي با تجاربجهاني يكي از وسايلي است كه مي تواند در اين زمينه راهگشا باشد  مطلبي كه در پي مي آيد برگرفته از كتابزمين هاي بازي وفضاهاي تفريحي تاليف آلفردلدرمان وتراچل است كه توسط مهندسين مشاور زادبوم ترجمه شده است  انسان زماني بازي مي كند كه به مفهوم كامل كلمه انسان باشد و تنها زماني انسان كامل است كه بازي مي كند  فردريك شيلر بازي براي رشد رواني و بلوغ انسان اهميتي حياتي دارد  پي آمدهاي كمبود امكانات براي بازي فعال و خلاقه به روشني عبارتند از  تخيل ناتوان  عصبي بودن و كج خلقي در بچه ها  اتلاف اوقات فراغت  اشتياق به سرگرمي  حالات تهاجمي و سركشي در نوجوانان  البته مي توان جلوي بسياري ازاين تحولات و انحرافات نادرست را گرفت  يا دست كم با ايجاد محيطي كه كودك بتواند اندوه و شادي خود را در آنجا بروز دهد  آنها را تخفيف داد  هيچكس براي بازي كردن هرگز نه خيلي بزرگ است و نه خيلي مسن  بازي  محرك فعاليت است  توان كار مولد از طريق بازي شكل مي گيرد  بازي مطمئن ترين تضمين براي رشد سالم كودكان و كمك با ارزشي در پرورش نوجوانان ماست  آيا بازي فقط به كودكستان و به زندگي روزمره جوانان اختصاص   دارد آيا بزرگسالان نيز نيازويژه اي به بازي و تفريح ندارندتا توانايي هاي فكري خود را دوباره توليد  كنند زندگي شهرهاي نوين  شديدتر از ايام پيش بر اعصاب و سلامت انسان فشار وارد مي آورد  سرعت زياد كار و اغلب يكنواختي آن  همراه با شتاب زندگي روزمره  موجب تهي شدن زندگي دروني انسان خواهد مگر شد اينكه فرصت هايي را براي دگرگوني و تجديد قواي خودش پيدا كند  منطقي و عقلايي كردن كار و خودكار شدن آن  در گرو داشتن اوقات فراغت بيشتر است  به عنوان مثال پنج روز كار در هفته  كاهش سن بازنشستگي  اين موقعيت نياز به فرصتهاي تازه براي فعاليت آفرينشي و بهره برداري مناسب از اوقات فراغت را مطرح مي سازد  در غير اين صورت صنايع سرگرمي  Industry Entertainment  زيركانه اين وقت آزاد را پرخواهند كرد و به جاي تعادل بخشيدن به شرايط پرتب و تاب كاري  يك سرگرمي پرهياهو و پوچ را ارائه خواهند داد  با زندگي اعصاب خردكن روزمره شهرها  گسيختگي زندگي خانوادگي و اتلاف وقت انفعالي  بايد از طريق ايجادمحيطهايي خلاق  مقابله كرد تا بتوان توانايي هاي دروني انسان آسفالته شهري را تقويت نمود و پيوندهاي خانوادگي را استحكام بخشيد  بازي و فراغت  مشغوليتهاي فعالانه اوقات اضافي و كار خلاقه  به فضاي بازي به مفهوم واقعي كلام نياز دارد  تنها اتومبيلها نيستند كه براي عبور از كناريكديگر به فضا و جا احتياج دارند  بلكه كودكان نيز به همان اندازه كه به غذا و خواب نيازمندند  محتاج فضايي براي بازي هستند  آيا شهرهاي ما به زودي به نقطه اي نخواهند رسيد كه فضا براي بازي چنان محدود و تنگ شود كه تحمل ناپذير  گردد اگر بخواهيم به اين پرسش كه فضاي بازي بايد در كدام قسمت شهر يا روستا قرار گيرد  پاسخي صادقانه بدهيم  بايد از مطالعه كودك و بازي هايش آغاز كنيم  ايجاد فضاهاي مناسب بازي  فقط وظيفه مقامات ساختماني يا اداره پاركهاي عمومي نيست  بازي و به ويژه بازي اطفال  به خانه  به اطاق نشيمن و محدوده اطراف خانه وابسته است و با زمينهاي بازي كه دور از خانه قرار دارند  هر چند نيز جالب باشد ارتباطي ندارد  فضاي بازي در خانه بنابراين  مساله فضاي بازي بايد در ابتدا در مجاورت آپارتمانها و محله هاي مسكوني حل شود  فضاي بازي  اطاق نشيمن  اطاق بازي و امثال آن   دقيقا به اندازه اطاق خواب و اطاق غذاخوري ضرورت دارد  در خانه سازي فعاليت هاي بسيار زيادي در جهت تامين بهداشت جسماني صورت گرفته است  كمتر ساختماني ساخته مي شود كه تسهيلات حمام و دستشويي نداشته باشد  اما در مورد ايجاد شرايطي براي بهداشت و سلامت زندگي دروني و حفظ استحكام زندگي خانوادگي هنوز كارهاي بسيار زيادي را در طراحي خانه ها و برنامه ريزي شهرهاي آينده بايد انجام داد  بسياري از آپارتمانهايي كه براي خانواده هاي بچه دار ساخته مي شوند  بسيار كوچك و محدود اتاقهاي هستند كوچك اين مكانها فضاي لازم را تنها براي اثاثيه منزل فراهم مي آورند  بزرگسالان نيز اتاقهاي پر از اسباب را فشرده تر مي كنند  بنابراين فضايي براي انسان و فعاليتهايش باقي همچنين نمي ماند ساختمان سازي با مصالح سبك  علت بسياري از اختلافات و درگيريهايي است كه در مجموعه هاي آپارتماني رخ مي دهد  بازي كودكان در آپارتمان  موجب اعتراض همسايگان ولي مي شود با وجود همه اينها  آيا حركت و شلوغ كردن جلوه اي از لذتي نيست كه كودكان ما از زندگي  مي برند سركوب و مخالفت با حركت و جنب و جوش كودكان بتدريج آسيب رواني ببار مي آورد  اتاقهاي كودكان  به ويژه در خانه هاي مسكوني خانواده هاي پرجمعيت  منحصر به اتاقهاي خواب بچه ها و نه اتاقهاي بازي است  اين اتاقهاي كوچك در بهترين حالت  جاي دو تخت كوچك و يك ميز كشويي را ديگر دارند جايي به نام كف اتاق براي بازي باقي نمي ماند  مي توان به اين نتيجه رسيد كه زندگي كودكان منحصر به خوابيدن مي شود  به همين دليل است كه در برخورد با مساله اين قشر سني و خانواده در زمينه مسكن و خانه سازي بايد درك بيشتري داشت  در مرحله طراحي بايد موضوع بازي كودك در نظر گرفته شود و آپارتمان براي خانواده مانند آشيانه اي گرم و محيطي سرشار از دوستي و صميميت باشد  يكي از ارزشمندترين محلهاي بازي  اتاق نشيمن است و در اين مكان است كه بازيهاي اوليه خردسالان آغاز مي شود  ابتدا درگهواره و سپس در گوشه و كنار اتاق  مي توان بطور ماهرانه اثاثيه را به گونه اي چيد كه گوشه اي از اتاق نشيمن محل بازي و مختص طفل شود  در آنجا بايد به طفل امكان داد كه هر كاري مي خواهد انجام دهد  اينجا لازم نيست مانند ميز اتاق نشيمن دائما تميز و جمع آوري شود  تا درست وقتي كه كودك در حال جالبترين بازي از نظر خودش است  مزاحمش شويم  همچنين در اينجاست كه كودك مي تواند با جعبه  صندلي و يا تكه هاي پارچه اولين سرپناه خود را بسازد  ايجاد كنج هايي براي بازي و خلوت بچه هاكاري است كه معماران  طراحان داخلي و والدين بايد با يكديگر در زمينه آن همكاري كنند  به علاوه در زيرزمينهاي بلوكهاي آپارتماني و يا منازل تك خانواري بايد اتاقهاي سرگرمي را هرچه بيشتر ايجاد كرد  مثلا اتاقهايي كه موارد غيرضروري درنظر گرفته شده اند  مي توانند به اتاقهاي بازي نيز تبديل شوند  فضاي بازي در هواي آزادزمين بازي براي بچه هاي زير پنج سال بايد حتي الامكان به خانه و به صورت يك فضاي سبز محصور پيوست باشد  محلي براي بازي در هواي آزاد بدون اينكه مادران ناچار شوند كه محل كار خود را براي همراهي با بچه هايشان در محل بازي هر روزه ترك گويند  آنها بايد بتوانند طفل كوچك خود را به هنگام بازي از خانه مراقبت و نظارت كنند  كودك تنها زماني احساس مي كند كه در خانه است كه امكان بازي در مجاورت مادرش را پيدا كند  هميشه مي توان اين احساس كودكان را با حالت لانه حيوانات يا لانه پرندگان مقايسه كرد  يعني تنها جايي كه به طور غريزي در آنجا احساس ايمني و امنيت مي كنند  حتي بچه هاي بزرگتر نيز ترجيح مي دهند كه در مجاورت در خانه شان  اطراف محله شان و جايي كه براي آنها آشناست  بازي كنند  چنانچه پيوند نزديك ميان كودك و محيط آشناي او را ازبين ببريم  موجب بي ريشگي و ناآرامي در زندگي بعدي كودك مي شود  زمين بازي كودكستان زمين بازي كودكستانهاي جديد بايد طوري طراحي شود كه از همان آغاز به صورت فضاهاي بازي چند منظوره باشند  يعني بتوان از آنها به گونه هاي مختلف استفاده كرد  به طوري كه اين زمينها را بتوان به كودكان محله واگذاشت تا در اوقات آزاد خود در آنها بازي بديهي كنند است كه فعاليت كودكستان نبايد در اثر اين كار مختل شود  با كمي حسن نيت  مسلما مي توان راه حل هايي را يافت كه به ارزش فعاليت آموزشي كودكستان لطمه اي وارد نياورد  حتي وقتي كه زمين كودكستان را براي مقاصد ديگري مورد استفاده قرار بي ترديد مي دهيم توسعه اين گونه فضاها براي منظوري دوگانه بايد بسيار متنوع و سرشار از زندگي باشد  شرايط اكثر زمينهاي بازي كودكستاني را مي توان با مناسبتر كردن شرايط آنها براي بازي بهبود بخشيد  زمين هاي بازي براي بچه ها در تمامي گروههاي سني وقتي بچه ها بزرگتر مي شوند  طيف بازي هايشان از خانه و محيط مجاور آن فراتر مي رود  كودكان بزرگتر  بازيها و ورزشهاي رقابتي را ترجيح مي دهند  مي خواهند فعال و سازنده باشند  بر امور تمركز كنند  اشياء را بيشتر بشناسند  در بازيهاي نمايشي شركت كنند و به كشف و ماجراجويي بپردازند  براي ارضاء تمامي اين تمايلات زمينهاي بازي بزرگتر از آنچه براي كوچكترها به كار مي رود  لازم است  درضمن  بازي بچه هاي بزرگتر شادتر  سرزنده تر است و سر و صداي بيشتري توليد مي كند  به همين دليل  زمين بازي بچه هاي بزرگتر نبايد خيلي به خانه ها نزديك باشد  بنابراين شبكه زمينهاي بازي مجموعه هاي خانه ها  مسكوني و كودكستانها بايدبا افزودن تعدادي از فضاهاي بازي وسيعتر براي استفاده بچه هاي بزرگتر ونوجوانان گسترش يابد  ادامه دارد\n",
            "ديدگاه خوانندگان تهديد و نتيجه تهديد توخالي  هر ساله در ارديبهشت ماه  تمامي مدارس راهنمايي كشور مشغول برنامه ريزي برگزاري امتحاناتي تحت عنوان معرفي ميان دانش آموزان كلاسهاي سوم راهنمايي خود مي شوند و با دانش آموزان اين گونه شرط و شروط مي گذارند كه بعد از تصحيح اوراق  به دانش آموزاني كه نمره زير آورده اند 10 كارت حضور در امتحانات خرداد ماه داده نشود  البته اين پديده هم اكنون و بعد از سال 1368 در كلاسهاي چهارم دبيرستان رسما به مورد اجرا گذاشته شده و دانش آموزاني كه در امتحانات معرفي يا همان سه ماهه دوم  موفق به اخذ معدل ده نمي شوند  از معرفي آنها به امتحانات سه ماهه سوم يا نهايي خودداري مي شود  ولي در دوره راهنمايي  همه دانش آموزان مي دانند كه تمام اين امتحانها و برنامه ها و تهديدها  بيش از حد يك حرف عادي نيست و فقط كافي است كه در يك كلاس يك دانش آموز دو ساله باشد تا همه فراگيران را آگاه كند كه امتحان معرفي  يك امتحان بي نتيجه است و به آنها اطمينان دهد كه كارت امتحان نهايي به كليه دانش آموزان اعم از قوي و ضعيف داده مي شود  در اين ميان  عنصري كه بيش از همه زير سوال مي رود  معلم است  معلم  همواره سعي مي كند الگوي صداقت و راستي باشد  الگوي وفاي به عهد معلم باشد هر گاه امتحان گرفته  حتما تصحيح كرده و حتما نمره اش را در جايي تاثير داده است  معلم كلاس سوم راهنمايي  بر سر دو راهي است و قدرت تصميم گيري را از دست داده است  اگر برگه ها را تصحيح نكند  در مقابل سوالات بچه ها چه جوابي بدهد واگر تصحيح كند  جواب وقت و انرژي زيادي را كه صرف كرده است  چه كسي  مي دهد آيا بهتر نيست وقتي كه صرف برگزاري اين امتحان مي شود  صرف تمرين و دوره درس آيا  شود نمي توان با هزينه هايي كه صرف مي شود نسبت به تهيه جزواتي از مجموعه تمرينات انفرادي ويژه دانش آموزان و بازيهاي آموزشي جذاب از دروس مختلف اقدام  كرد و يا واقعا چه اشكالي دارد كه مثل دبيرستانها عمل كنيم و دانش آموزي را كه بعد از هشت ماه درس خواندن نمره 4 گرفته براي امتحان نهايي معرفي نكنيم و دانش آموزان در سر جلسه امتحان با صندلي خالي او روبرو شوند  و حتما تاثير اين خالي بودن  بسيار بيشتر از تهديدهايي كه معلمان در كلاسهاي درس و مديران و معاونان محترم در مدارس به صورت جمعي بر دانش آموزان روا مي دارند  آيا واقعا دانش آموزي كه به اجبار به مدرسه آمده و در هيچيك از امتحانات موفق نبوده  ممكن است در امتحانات نهايي موفق شود  اگر ما قدرت اين را  يا بهتر بگويم ا جازه اين را نداريم كه از ورود دانش آموزي به جلسه امتحانات نهايي ممانعت كنيم  پس چرا به آنها دروغ مي گوئيم و صداقت و سعي و انرژي معلم را زير سوال مي بريم  هدف نهايي هر امتحاني  بالا بردن سطح آگاهي دانش آموزان است  اما امتحان معرفي  نه تنها سطح آگاهي آنان را بالا نمي برد  بلكه آنها را نسبت به معلم  مدير و تمامي عناصر آموزش و پرورش بي اعتماد مي كند  فرآيند امتحان معرفي در دوره راهنمايي تحصيلي  مقوله اي است كه بحثهاي متعددي را مي طلبد و ضرورت دارد كه جدي تر به آن پرداخته شود  بتول خويينها   دبير زبان دوره راهنمايي\n",
            "دانش جغرافي دانش آموزان امريكايي در پايين ترين سطح جهاني است   واحد رسانه هاي خارجي  دنيا  دنياي بزرگي است و به ياد داشتن نام اماكن  نقاط و چيزهاي مختلف آن كار آساني نيست  كارشناسان علوم آموزش امريكا مي خواهند اهميت جغرافيا را به دانش آموزان گوشزد و آنان را به تقويت دانش خود در اين زمينه تشويق كنند  به گزارش تلويزيون آزمونهاي سي ان ان  گوناگوني كه در موردويژگيهاي جغرافيايي جهان ياحتي امريكا از دانش آموزان اين كشور شده است  نتايج قابل توجهي دربرداشته است  مثلا بيشتر دانش آموزان دوره راهنمايي امريكا نمي دانند درياچه هاي كوچك از عمده ويژگيهاي ايالت آلاسكا است و نه ايالات ديگر  آنان حتي نمي دانند دين رايج مردم كشورهاي تازه استقلال يافته آسياي مركزي اسلام است  در سال 1988 آزموني كه انجمن جغرافيايي ملي امريكا برگزار كرد دانش آموزان اين كشوررا در رتبه پاياني 16 كشورحاضر در آزمون قرار داد  دو سال پيش  وزارت آموزش و پرورش امريكا معيارهاي يكسان ملي براي درس جغرافيا تعيين كرد  براين اساس مثلا دانش آموز كلاس چهارم دبستان بايد بتواند از روي نقشه جهت مسافرت به شهرهاي مختلف را تشخيص دهد و تا دبيرستان بايد نوع ناهمواري مسيرها و صنايع مناطق و نيز فرهنگهاي مختلف نقاط گوناگون را بشناسد \n"
          ]
        }
      ]
    },
    {
      "cell_type": "markdown",
      "metadata": {
        "id": "VE9qx1LVOkZ7"
      },
      "source": [
        "##shape of dataset"
      ]
    },
    {
      "cell_type": "code",
      "metadata": {
        "colab": {
          "base_uri": "https://localhost:8080/"
        },
        "id": "2jwwJBeRFWPk",
        "outputId": "6054b5c1-867a-4941-f19c-72845278f723"
      },
      "source": [
        "dataset.shape"
      ],
      "execution_count": 7,
      "outputs": [
        {
          "output_type": "execute_result",
          "data": {
            "text/plain": [
              "(27818, 4)"
            ]
          },
          "metadata": {},
          "execution_count": 7
        }
      ]
    },
    {
      "cell_type": "markdown",
      "metadata": {
        "id": "dWEaP9g9OwJP"
      },
      "source": [
        "##check information of columns of dataset\n"
      ]
    },
    {
      "cell_type": "code",
      "metadata": {
        "colab": {
          "base_uri": "https://localhost:8080/"
        },
        "id": "Yj6-MHZYOr2i",
        "outputId": "887f4320-2982-4864-c98f-f1aa9d25d5b6"
      },
      "source": [
        "dataset.info()"
      ],
      "execution_count": 8,
      "outputs": [
        {
          "output_type": "stream",
          "name": "stdout",
          "text": [
            "<class 'pandas.core.frame.DataFrame'>\n",
            "RangeIndex: 27818 entries, 0 to 27817\n",
            "Data columns (total 4 columns):\n",
            " #   Column  Non-Null Count  Dtype \n",
            "---  ------  --------------  ----- \n",
            " 0   id      27818 non-null  object\n",
            " 1   date    27818 non-null  object\n",
            " 2   cat     27818 non-null  object\n",
            " 3   text    27818 non-null  object\n",
            "dtypes: object(4)\n",
            "memory usage: 869.4+ KB\n"
          ]
        }
      ]
    },
    {
      "cell_type": "markdown",
      "metadata": {
        "id": "rxXtJmtyPMjB"
      },
      "source": [
        "##count values of given categories"
      ]
    },
    {
      "cell_type": "code",
      "metadata": {
        "colab": {
          "base_uri": "https://localhost:8080/"
        },
        "id": "rjrm0dFtPDcS",
        "outputId": "27288f63-3580-4947-8aac-a3f82dfc900b"
      },
      "source": [
        "dataset['cat'].value_counts()"
      ],
      "execution_count": 9,
      "outputs": [
        {
          "output_type": "execute_result",
          "data": {
            "text/plain": [
              "shahr      5659\n",
              "gungn      4622\n",
              "kharj      3288\n",
              "vrzsh      2956\n",
              "siasi      2717\n",
              "eqtes      2587\n",
              "elmfa      1194\n",
              "havad      1110\n",
              "adabh      1097\n",
              "ejtem       647\n",
              "maqal       541\n",
              "gozar       494\n",
              "axrooz      310\n",
              "nameh       266\n",
              "cartoon     136\n",
              "telfn       118\n",
              "mohit        69\n",
              "gofgu         7\n",
              "Name: cat, dtype: int64"
            ]
          },
          "metadata": {},
          "execution_count": 9
        }
      ]
    },
    {
      "cell_type": "markdown",
      "metadata": {
        "id": "NkHlREOOPcdc"
      },
      "source": [
        "##convert categories name into numerical index"
      ]
    },
    {
      "cell_type": "code",
      "metadata": {
        "colab": {
          "base_uri": "https://localhost:8080/"
        },
        "id": "PR27tUHWECvJ",
        "outputId": "c82d8ab9-9b04-4267-e099-b7acd73aed3b"
      },
      "source": [
        "# Associate Category names with numerical index and save it in new column CategoryId\n",
        "target_category = dataset['cat'].unique()\n",
        "print(target_category)"
      ],
      "execution_count": 10,
      "outputs": [
        {
          "output_type": "stream",
          "name": "stdout",
          "text": [
            "['adabh' 'ejtem' 'elmfa' 'eqtes' 'gozar' 'havad' 'kharj' 'maqal' 'shahr'\n",
            " 'siasi' 'vrzsh' 'gungn' 'axrooz' 'cartoon' 'nameh' 'telfn' 'mohit'\n",
            " 'gofgu']\n"
          ]
        }
      ]
    },
    {
      "cell_type": "markdown",
      "metadata": {
        "id": "tTF8vJbRPrXZ"
      },
      "source": [
        "##to show new column were added"
      ]
    },
    {
      "cell_type": "code",
      "metadata": {
        "colab": {
          "base_uri": "https://localhost:8080/",
          "height": 206
        },
        "id": "8q42XJlREUf1",
        "outputId": "27f0315c-3ba3-4b5f-a91c-e27d02f52eec"
      },
      "source": [
        "dataset['catId'] = dataset['cat'].factorize()[0]\n",
        "dataset.head()"
      ],
      "execution_count": 11,
      "outputs": [
        {
          "output_type": "execute_result",
          "data": {
            "text/plain": [
              "    id      date    cat                                               text  \\\n",
              "0  1S1  75\\04\\02  adabh  جاودانگي در زندگي گروهي از طريق هنر نگاهي به ن...   \n",
              "1  2S1  75\\04\\02  adabh  رويدادهاي هنري جهان نمايشگاه هنر در خدمت ديكتا...   \n",
              "2  3S1  75\\04\\02  adabh  برديوار نگارخانه ها گالري گلستان: نمايشگاه طرح...   \n",
              "3  4S1  75\\04\\02  ejtem  بازي را جدي بگيريم مطالعه اي مقدماتي پيرامون ن...   \n",
              "4  5S1  75\\04\\02  elmfa  تخته سياه و غباري كه سترده نمي شود... اشاره; ب...   \n",
              "\n",
              "   catId  \n",
              "0      0  \n",
              "1      0  \n",
              "2      0  \n",
              "3      1  \n",
              "4      2  "
            ],
            "text/html": [
              "\n",
              "  <div id=\"df-fe768292-2785-427d-9e3b-a66831f3034d\">\n",
              "    <div class=\"colab-df-container\">\n",
              "      <div>\n",
              "<style scoped>\n",
              "    .dataframe tbody tr th:only-of-type {\n",
              "        vertical-align: middle;\n",
              "    }\n",
              "\n",
              "    .dataframe tbody tr th {\n",
              "        vertical-align: top;\n",
              "    }\n",
              "\n",
              "    .dataframe thead th {\n",
              "        text-align: right;\n",
              "    }\n",
              "</style>\n",
              "<table border=\"1\" class=\"dataframe\">\n",
              "  <thead>\n",
              "    <tr style=\"text-align: right;\">\n",
              "      <th></th>\n",
              "      <th>id</th>\n",
              "      <th>date</th>\n",
              "      <th>cat</th>\n",
              "      <th>text</th>\n",
              "      <th>catId</th>\n",
              "    </tr>\n",
              "  </thead>\n",
              "  <tbody>\n",
              "    <tr>\n",
              "      <th>0</th>\n",
              "      <td>1S1</td>\n",
              "      <td>75\\04\\02</td>\n",
              "      <td>adabh</td>\n",
              "      <td>جاودانگي در زندگي گروهي از طريق هنر نگاهي به ن...</td>\n",
              "      <td>0</td>\n",
              "    </tr>\n",
              "    <tr>\n",
              "      <th>1</th>\n",
              "      <td>2S1</td>\n",
              "      <td>75\\04\\02</td>\n",
              "      <td>adabh</td>\n",
              "      <td>رويدادهاي هنري جهان نمايشگاه هنر در خدمت ديكتا...</td>\n",
              "      <td>0</td>\n",
              "    </tr>\n",
              "    <tr>\n",
              "      <th>2</th>\n",
              "      <td>3S1</td>\n",
              "      <td>75\\04\\02</td>\n",
              "      <td>adabh</td>\n",
              "      <td>برديوار نگارخانه ها گالري گلستان: نمايشگاه طرح...</td>\n",
              "      <td>0</td>\n",
              "    </tr>\n",
              "    <tr>\n",
              "      <th>3</th>\n",
              "      <td>4S1</td>\n",
              "      <td>75\\04\\02</td>\n",
              "      <td>ejtem</td>\n",
              "      <td>بازي را جدي بگيريم مطالعه اي مقدماتي پيرامون ن...</td>\n",
              "      <td>1</td>\n",
              "    </tr>\n",
              "    <tr>\n",
              "      <th>4</th>\n",
              "      <td>5S1</td>\n",
              "      <td>75\\04\\02</td>\n",
              "      <td>elmfa</td>\n",
              "      <td>تخته سياه و غباري كه سترده نمي شود... اشاره; ب...</td>\n",
              "      <td>2</td>\n",
              "    </tr>\n",
              "  </tbody>\n",
              "</table>\n",
              "</div>\n",
              "      <button class=\"colab-df-convert\" onclick=\"convertToInteractive('df-fe768292-2785-427d-9e3b-a66831f3034d')\"\n",
              "              title=\"Convert this dataframe to an interactive table.\"\n",
              "              style=\"display:none;\">\n",
              "        \n",
              "  <svg xmlns=\"http://www.w3.org/2000/svg\" height=\"24px\"viewBox=\"0 0 24 24\"\n",
              "       width=\"24px\">\n",
              "    <path d=\"M0 0h24v24H0V0z\" fill=\"none\"/>\n",
              "    <path d=\"M18.56 5.44l.94 2.06.94-2.06 2.06-.94-2.06-.94-.94-2.06-.94 2.06-2.06.94zm-11 1L8.5 8.5l.94-2.06 2.06-.94-2.06-.94L8.5 2.5l-.94 2.06-2.06.94zm10 10l.94 2.06.94-2.06 2.06-.94-2.06-.94-.94-2.06-.94 2.06-2.06.94z\"/><path d=\"M17.41 7.96l-1.37-1.37c-.4-.4-.92-.59-1.43-.59-.52 0-1.04.2-1.43.59L10.3 9.45l-7.72 7.72c-.78.78-.78 2.05 0 2.83L4 21.41c.39.39.9.59 1.41.59.51 0 1.02-.2 1.41-.59l7.78-7.78 2.81-2.81c.8-.78.8-2.07 0-2.86zM5.41 20L4 18.59l7.72-7.72 1.47 1.35L5.41 20z\"/>\n",
              "  </svg>\n",
              "      </button>\n",
              "      \n",
              "  <style>\n",
              "    .colab-df-container {\n",
              "      display:flex;\n",
              "      flex-wrap:wrap;\n",
              "      gap: 12px;\n",
              "    }\n",
              "\n",
              "    .colab-df-convert {\n",
              "      background-color: #E8F0FE;\n",
              "      border: none;\n",
              "      border-radius: 50%;\n",
              "      cursor: pointer;\n",
              "      display: none;\n",
              "      fill: #1967D2;\n",
              "      height: 32px;\n",
              "      padding: 0 0 0 0;\n",
              "      width: 32px;\n",
              "    }\n",
              "\n",
              "    .colab-df-convert:hover {\n",
              "      background-color: #E2EBFA;\n",
              "      box-shadow: 0px 1px 2px rgba(60, 64, 67, 0.3), 0px 1px 3px 1px rgba(60, 64, 67, 0.15);\n",
              "      fill: #174EA6;\n",
              "    }\n",
              "\n",
              "    [theme=dark] .colab-df-convert {\n",
              "      background-color: #3B4455;\n",
              "      fill: #D2E3FC;\n",
              "    }\n",
              "\n",
              "    [theme=dark] .colab-df-convert:hover {\n",
              "      background-color: #434B5C;\n",
              "      box-shadow: 0px 1px 3px 1px rgba(0, 0, 0, 0.15);\n",
              "      filter: drop-shadow(0px 1px 2px rgba(0, 0, 0, 0.3));\n",
              "      fill: #FFFFFF;\n",
              "    }\n",
              "  </style>\n",
              "\n",
              "      <script>\n",
              "        const buttonEl =\n",
              "          document.querySelector('#df-fe768292-2785-427d-9e3b-a66831f3034d button.colab-df-convert');\n",
              "        buttonEl.style.display =\n",
              "          google.colab.kernel.accessAllowed ? 'block' : 'none';\n",
              "\n",
              "        async function convertToInteractive(key) {\n",
              "          const element = document.querySelector('#df-fe768292-2785-427d-9e3b-a66831f3034d');\n",
              "          const dataTable =\n",
              "            await google.colab.kernel.invokeFunction('convertToInteractive',\n",
              "                                                     [key], {});\n",
              "          if (!dataTable) return;\n",
              "\n",
              "          const docLinkHtml = 'Like what you see? Visit the ' +\n",
              "            '<a target=\"_blank\" href=https://colab.research.google.com/notebooks/data_table.ipynb>data table notebook</a>'\n",
              "            + ' to learn more about interactive tables.';\n",
              "          element.innerHTML = '';\n",
              "          dataTable['output_type'] = 'display_data';\n",
              "          await google.colab.output.renderOutput(dataTable, element);\n",
              "          const docLink = document.createElement('div');\n",
              "          docLink.innerHTML = docLinkHtml;\n",
              "          element.appendChild(docLink);\n",
              "        }\n",
              "      </script>\n",
              "    </div>\n",
              "  </div>\n",
              "  "
            ]
          },
          "metadata": {},
          "execution_count": 11
        }
      ]
    },
    {
      "cell_type": "markdown",
      "metadata": {
        "id": "lTeSpI_tQWkM"
      },
      "source": [
        "##to show category's name with respect to category id"
      ]
    },
    {
      "cell_type": "code",
      "metadata": {
        "colab": {
          "base_uri": "https://localhost:8080/",
          "height": 614
        },
        "id": "KxjRhWYkEovZ",
        "outputId": "4e1fc41b-eb75-4f42-8117-5673b800e160"
      },
      "source": [
        "# Create a new pandas dataframe \"category\", which only has unique Categories, also sorting this list in order of CategoryId values\n",
        "category = dataset[['cat', 'catId']].drop_duplicates().sort_values('catId')\n",
        "category"
      ],
      "execution_count": 12,
      "outputs": [
        {
          "output_type": "execute_result",
          "data": {
            "text/plain": [
              "           cat  catId\n",
              "0        adabh      0\n",
              "3        ejtem      1\n",
              "4        elmfa      2\n",
              "10       eqtes      3\n",
              "21       gozar      4\n",
              "22       havad      5\n",
              "32       kharj      6\n",
              "42       maqal      7\n",
              "43       shahr      8\n",
              "60       siasi      9\n",
              "75       vrzsh     10\n",
              "2683     gungn     11\n",
              "2876    axrooz     12\n",
              "3027   cartoon     13\n",
              "12404    nameh     14\n",
              "12430    telfn     15\n",
              "12558    mohit     16\n",
              "16112    gofgu     17"
            ],
            "text/html": [
              "\n",
              "  <div id=\"df-b452bae4-8a03-4015-a327-c3cb362c764a\">\n",
              "    <div class=\"colab-df-container\">\n",
              "      <div>\n",
              "<style scoped>\n",
              "    .dataframe tbody tr th:only-of-type {\n",
              "        vertical-align: middle;\n",
              "    }\n",
              "\n",
              "    .dataframe tbody tr th {\n",
              "        vertical-align: top;\n",
              "    }\n",
              "\n",
              "    .dataframe thead th {\n",
              "        text-align: right;\n",
              "    }\n",
              "</style>\n",
              "<table border=\"1\" class=\"dataframe\">\n",
              "  <thead>\n",
              "    <tr style=\"text-align: right;\">\n",
              "      <th></th>\n",
              "      <th>cat</th>\n",
              "      <th>catId</th>\n",
              "    </tr>\n",
              "  </thead>\n",
              "  <tbody>\n",
              "    <tr>\n",
              "      <th>0</th>\n",
              "      <td>adabh</td>\n",
              "      <td>0</td>\n",
              "    </tr>\n",
              "    <tr>\n",
              "      <th>3</th>\n",
              "      <td>ejtem</td>\n",
              "      <td>1</td>\n",
              "    </tr>\n",
              "    <tr>\n",
              "      <th>4</th>\n",
              "      <td>elmfa</td>\n",
              "      <td>2</td>\n",
              "    </tr>\n",
              "    <tr>\n",
              "      <th>10</th>\n",
              "      <td>eqtes</td>\n",
              "      <td>3</td>\n",
              "    </tr>\n",
              "    <tr>\n",
              "      <th>21</th>\n",
              "      <td>gozar</td>\n",
              "      <td>4</td>\n",
              "    </tr>\n",
              "    <tr>\n",
              "      <th>22</th>\n",
              "      <td>havad</td>\n",
              "      <td>5</td>\n",
              "    </tr>\n",
              "    <tr>\n",
              "      <th>32</th>\n",
              "      <td>kharj</td>\n",
              "      <td>6</td>\n",
              "    </tr>\n",
              "    <tr>\n",
              "      <th>42</th>\n",
              "      <td>maqal</td>\n",
              "      <td>7</td>\n",
              "    </tr>\n",
              "    <tr>\n",
              "      <th>43</th>\n",
              "      <td>shahr</td>\n",
              "      <td>8</td>\n",
              "    </tr>\n",
              "    <tr>\n",
              "      <th>60</th>\n",
              "      <td>siasi</td>\n",
              "      <td>9</td>\n",
              "    </tr>\n",
              "    <tr>\n",
              "      <th>75</th>\n",
              "      <td>vrzsh</td>\n",
              "      <td>10</td>\n",
              "    </tr>\n",
              "    <tr>\n",
              "      <th>2683</th>\n",
              "      <td>gungn</td>\n",
              "      <td>11</td>\n",
              "    </tr>\n",
              "    <tr>\n",
              "      <th>2876</th>\n",
              "      <td>axrooz</td>\n",
              "      <td>12</td>\n",
              "    </tr>\n",
              "    <tr>\n",
              "      <th>3027</th>\n",
              "      <td>cartoon</td>\n",
              "      <td>13</td>\n",
              "    </tr>\n",
              "    <tr>\n",
              "      <th>12404</th>\n",
              "      <td>nameh</td>\n",
              "      <td>14</td>\n",
              "    </tr>\n",
              "    <tr>\n",
              "      <th>12430</th>\n",
              "      <td>telfn</td>\n",
              "      <td>15</td>\n",
              "    </tr>\n",
              "    <tr>\n",
              "      <th>12558</th>\n",
              "      <td>mohit</td>\n",
              "      <td>16</td>\n",
              "    </tr>\n",
              "    <tr>\n",
              "      <th>16112</th>\n",
              "      <td>gofgu</td>\n",
              "      <td>17</td>\n",
              "    </tr>\n",
              "  </tbody>\n",
              "</table>\n",
              "</div>\n",
              "      <button class=\"colab-df-convert\" onclick=\"convertToInteractive('df-b452bae4-8a03-4015-a327-c3cb362c764a')\"\n",
              "              title=\"Convert this dataframe to an interactive table.\"\n",
              "              style=\"display:none;\">\n",
              "        \n",
              "  <svg xmlns=\"http://www.w3.org/2000/svg\" height=\"24px\"viewBox=\"0 0 24 24\"\n",
              "       width=\"24px\">\n",
              "    <path d=\"M0 0h24v24H0V0z\" fill=\"none\"/>\n",
              "    <path d=\"M18.56 5.44l.94 2.06.94-2.06 2.06-.94-2.06-.94-.94-2.06-.94 2.06-2.06.94zm-11 1L8.5 8.5l.94-2.06 2.06-.94-2.06-.94L8.5 2.5l-.94 2.06-2.06.94zm10 10l.94 2.06.94-2.06 2.06-.94-2.06-.94-.94-2.06-.94 2.06-2.06.94z\"/><path d=\"M17.41 7.96l-1.37-1.37c-.4-.4-.92-.59-1.43-.59-.52 0-1.04.2-1.43.59L10.3 9.45l-7.72 7.72c-.78.78-.78 2.05 0 2.83L4 21.41c.39.39.9.59 1.41.59.51 0 1.02-.2 1.41-.59l7.78-7.78 2.81-2.81c.8-.78.8-2.07 0-2.86zM5.41 20L4 18.59l7.72-7.72 1.47 1.35L5.41 20z\"/>\n",
              "  </svg>\n",
              "      </button>\n",
              "      \n",
              "  <style>\n",
              "    .colab-df-container {\n",
              "      display:flex;\n",
              "      flex-wrap:wrap;\n",
              "      gap: 12px;\n",
              "    }\n",
              "\n",
              "    .colab-df-convert {\n",
              "      background-color: #E8F0FE;\n",
              "      border: none;\n",
              "      border-radius: 50%;\n",
              "      cursor: pointer;\n",
              "      display: none;\n",
              "      fill: #1967D2;\n",
              "      height: 32px;\n",
              "      padding: 0 0 0 0;\n",
              "      width: 32px;\n",
              "    }\n",
              "\n",
              "    .colab-df-convert:hover {\n",
              "      background-color: #E2EBFA;\n",
              "      box-shadow: 0px 1px 2px rgba(60, 64, 67, 0.3), 0px 1px 3px 1px rgba(60, 64, 67, 0.15);\n",
              "      fill: #174EA6;\n",
              "    }\n",
              "\n",
              "    [theme=dark] .colab-df-convert {\n",
              "      background-color: #3B4455;\n",
              "      fill: #D2E3FC;\n",
              "    }\n",
              "\n",
              "    [theme=dark] .colab-df-convert:hover {\n",
              "      background-color: #434B5C;\n",
              "      box-shadow: 0px 1px 3px 1px rgba(0, 0, 0, 0.15);\n",
              "      filter: drop-shadow(0px 1px 2px rgba(0, 0, 0, 0.3));\n",
              "      fill: #FFFFFF;\n",
              "    }\n",
              "  </style>\n",
              "\n",
              "      <script>\n",
              "        const buttonEl =\n",
              "          document.querySelector('#df-b452bae4-8a03-4015-a327-c3cb362c764a button.colab-df-convert');\n",
              "        buttonEl.style.display =\n",
              "          google.colab.kernel.accessAllowed ? 'block' : 'none';\n",
              "\n",
              "        async function convertToInteractive(key) {\n",
              "          const element = document.querySelector('#df-b452bae4-8a03-4015-a327-c3cb362c764a');\n",
              "          const dataTable =\n",
              "            await google.colab.kernel.invokeFunction('convertToInteractive',\n",
              "                                                     [key], {});\n",
              "          if (!dataTable) return;\n",
              "\n",
              "          const docLinkHtml = 'Like what you see? Visit the ' +\n",
              "            '<a target=\"_blank\" href=https://colab.research.google.com/notebooks/data_table.ipynb>data table notebook</a>'\n",
              "            + ' to learn more about interactive tables.';\n",
              "          element.innerHTML = '';\n",
              "          dataTable['output_type'] = 'display_data';\n",
              "          await google.colab.output.renderOutput(dataTable, element);\n",
              "          const docLink = document.createElement('div');\n",
              "          docLink.innerHTML = docLinkHtml;\n",
              "          element.appendChild(docLink);\n",
              "        }\n",
              "      </script>\n",
              "    </div>\n",
              "  </div>\n",
              "  "
            ]
          },
          "metadata": {},
          "execution_count": 12
        }
      ]
    },
    {
      "cell_type": "markdown",
      "metadata": {
        "id": "j6CMmMmATou9"
      },
      "source": [
        "##show category id in dictionary form"
      ]
    },
    {
      "cell_type": "code",
      "metadata": {
        "colab": {
          "base_uri": "https://localhost:8080/"
        },
        "id": "Fx40gOBjTaWW",
        "outputId": "cfdd0ae8-4e80-4e5f-b35c-c120224c12b7"
      },
      "source": [
        "# Create a dictionary ( python datastructure - like a lookup table) that \n",
        "# can easily convert category names into category_ids and vice-versa\n",
        "category_to_id = dict(category.values)\n",
        "id_to_category = dict(category[['catId', 'cat']].values)\n",
        "id_to_category"
      ],
      "execution_count": 13,
      "outputs": [
        {
          "output_type": "execute_result",
          "data": {
            "text/plain": [
              "{0: 'adabh',\n",
              " 1: 'ejtem',\n",
              " 2: 'elmfa',\n",
              " 3: 'eqtes',\n",
              " 4: 'gozar',\n",
              " 5: 'havad',\n",
              " 6: 'kharj',\n",
              " 7: 'maqal',\n",
              " 8: 'shahr',\n",
              " 9: 'siasi',\n",
              " 10: 'vrzsh',\n",
              " 11: 'gungn',\n",
              " 12: 'axrooz',\n",
              " 13: 'cartoon',\n",
              " 14: 'nameh',\n",
              " 15: 'telfn',\n",
              " 16: 'mohit',\n",
              " 17: 'gofgu'}"
            ]
          },
          "metadata": {},
          "execution_count": 13
        }
      ]
    },
    {
      "cell_type": "markdown",
      "metadata": {
        "id": "37ePDJSTUBvw"
      },
      "source": [
        "##visualizing category data in numeric form"
      ]
    },
    {
      "cell_type": "code",
      "metadata": {
        "colab": {
          "base_uri": "https://localhost:8080/",
          "height": 507
        },
        "id": "TPdw16m5GQFg",
        "outputId": "3ee958f5-69f7-45ed-cdba-a78363b2e10e"
      },
      "source": [
        "print(dataset.groupby('cat').catId.value_counts())\n",
        "dataset.groupby('cat').catId.value_counts().sort_values(ascending=False).plot(figsize=(100,20), kind = \"bar\", color = [\"pink\", \"orange\", \"red\", \"yellow\", \"blue\"])\n",
        "plt.xlabel(\"Category of data\")\n",
        "plt.title(\"Visulaize numbers of Category of data\")\n",
        "plt.show()"
      ],
      "execution_count": 14,
      "outputs": [
        {
          "output_type": "stream",
          "name": "stdout",
          "text": [
            "cat      catId\n",
            "adabh    0        1097\n",
            "axrooz   12        310\n",
            "cartoon  13        136\n",
            "ejtem    1         647\n",
            "elmfa    2        1194\n",
            "eqtes    3        2587\n",
            "gofgu    17          7\n",
            "gozar    4         494\n",
            "gungn    11       4622\n",
            "havad    5        1110\n",
            "kharj    6        3288\n",
            "maqal    7         541\n",
            "mohit    16         69\n",
            "nameh    14        266\n",
            "shahr    8        5659\n",
            "siasi    9        2717\n",
            "telfn    15        118\n",
            "vrzsh    10       2956\n",
            "Name: catId, dtype: int64\n"
          ]
        },
        {
          "output_type": "display_data",
          "data": {
            "text/plain": [
              "<Figure size 7200x1440 with 1 Axes>"
            ],
            "image/png": "[encoded data removed]"
          },
          "metadata": {
            "needs_background": "light"
          }
        }
      ]
    },
    {
      "cell_type": "markdown",
      "metadata": {
        "id": "jIcnf_bVYAdk"
      },
      "source": [
        "##remove all stopwords and special characters"
      ]
    },
    {
      "cell_type": "code",
      "metadata": {
        "colab": {
          "base_uri": "https://localhost:8080/",
          "height": 175
        },
        "id": "-kSzu3N3KYA5",
        "outputId": "aad8e44d-75bd-4858-c9b7-be03059434b1"
      },
      "source": [
        "stopwordsFile = open(\"/content/drive/MyDrive/Colab Notebooks/NLP/news-classification/content/PersianStopWords.txt\", \"r\")\n",
        "stopwords = stopwordsFile.read()\n",
        "\n",
        "content_list = stopwords.split(\"\\n\")\n",
        "stopwordsFile.close()\n",
        "\n",
        "def special_char(text):\n",
        "  reviews = ''\n",
        "  for x in text:\n",
        "    if x.isalnum():\n",
        "      reviews = reviews + x\n",
        "    else:\n",
        "      reviews = reviews + ' '\n",
        "  return reviews\n",
        "\n",
        "dataset['text'] = dataset['text'].apply(special_char)\n",
        "dataset['text'][1]\n",
        "\n",
        "# def remove_stopwords(text):\n",
        "#   stop_words = set(stopwords)\n",
        "#   words = word_tokenize(text)\n",
        "#   return [x for x in words if x not in stop_words]\n",
        "\n",
        "# dataset['text'] = dataset['text'].apply(remove_stopwords)\n",
        "# dataset['text'][1]"
      ],
      "execution_count": 15,
      "outputs": [
        {
          "output_type": "execute_result",
          "data": {
            "text/plain": [
              "'رويدادهاي هنري جهان نمايشگاه هنر در خدمت ديكتاتورها نمايشگاه ارتباط بين هنر وقدرت ديكتاتورها در اروپا درشهر برلين آغاز به كار كرد  به گزارش واحد مركزي خبر به نقل از شبكه خبري اروپا در اين نمايشگاه كه در موزه تاريخ آلمان برپا شده است ترتيبدهندگان با به نمايش گذاشتن آثار نقاشي و مجسمه سازي قصد دارند نشان دهند كه چگونه از آثار هنري در بين سالهاي 1930 و 1945 به عنوان وسائل تبليغاتي استفاده مي شد  در اين نمايشگاه سوءاستفاده هاي هنري هيتلر در زمان آلمان نازي  موسيليني در ايتاليا  سردمداران اتحاد جماهير شوروي  اسپانيا و همه ديكتاتورهاي بزرگ اوائل قرن حاضر در اروپا به نمايش گذاشته شده است  در اين نمايشگاه 500 اثر هنري به معرض نمايش گذاشته شده اند  نمايشگاه آثار پيكاسو در اردن ملكه اسپانيا  سوفيا   به همراه ملكه اردن   نور   نمايشگاهي از آثار پيكاسو رادر گالري ملي اردن افتتاح كردند  اين نمايشگاه در پايتخت اين كشور  امان افتتاح شد و در آن آثار مختلف نقاش معروف اسپانيايي  پابلو پيكاسو به نمايش گذاشته شده اند  آثار مذكور جزء اموال موزه هنرهاي معاصر اسپانيا هستند و به مدت يك ماه در امان به نمايش گذاشته مي شوند  اين نمايشگاه بعد از توافق ميان انستيتو سروانتس و موزه مذكور برپا شده است  انستيتو سروانتس در مورد گسترش زبان اسپانيايي خارج از اين كشور فعاليت مي كند و در خاورميانه از دفاتري در كشورهاي اردن  لبنان  سوريه و عراق برخوردار است  تبديل خانه رودن به موزه خانه رودن مجسمه ساز مشهورفرانسوي واقع در يكي از مناطق آرام حومه پاريس به موزه تبديل شده اين است brillants خانه des Lavilla نام دارد و در آن صدها مجسمه گلي ساخته رودن كه از زمان مرگ او در سال 1917 به جا مانده است در معرض ديد عموم مردم قرار گرفته است  رودن اين خانه رادر سال 1895 خريد زيرا آرامش اين محيط را به كارگاهش واقع در هتل بايرون ترجيح مي داد  هم اكنون هتل بايرون به موزه رودن مشهور است و آثار برنزي و مرمر او در آنجا در معرض ديد علاقه مندان قرار اما دارد بازديد خانه رودن باعث مي شود كه تماشاگران بهتر از هميشه محيط كار او را حس كنند و با شرايط زندگي او آشنا شوند  با وجود اين دو موزه هنوز حدود 6000 قطعه از آثار رودن در انبار هستند و به نمايش عمومي در نيامده اند '"
            ],
            "application/vnd.google.colaboratory.intrinsic+json": {
              "type": "string"
            }
          },
          "metadata": {},
          "execution_count": 15
        }
      ]
    },
    {
      "cell_type": "markdown",
      "metadata": {
        "id": "KKR0NzxaYIpi"
      },
      "source": [
        "##lemmatizing or stemming the words"
      ]
    },
    {
      "cell_type": "code",
      "metadata": {
        "id": "iOWdTyFHKca6"
      },
      "source": [
        "# def lemmatize_word(text):\n",
        "#   wordnet = WordNetLemmatizer()\n",
        "#   return \" \".join([wordnet.lemmatize(word) for word in text])\n",
        "\n",
        "# dataset['text'] = dataset['text'].apply(lemmatize_word)\n",
        "# dataset['text'][1]"
      ],
      "execution_count": 16,
      "outputs": []
    },
    {
      "cell_type": "markdown",
      "metadata": {
        "id": "UqYCvRZEYOTA"
      },
      "source": [
        "##after text_preprocessing print dataset"
      ]
    },
    {
      "cell_type": "code",
      "metadata": {
        "colab": {
          "base_uri": "https://localhost:8080/",
          "height": 424
        },
        "id": "cawCIaZGMCoh",
        "outputId": "17bc5002-6d22-4f2f-f2fc-50991b199b68"
      },
      "source": [
        "dataset"
      ],
      "execution_count": 17,
      "outputs": [
        {
          "output_type": "execute_result",
          "data": {
            "text/plain": [
              "            id      date    cat  \\\n",
              "0          1S1  75\\04\\02  adabh   \n",
              "1          2S1  75\\04\\02  adabh   \n",
              "2          3S1  75\\04\\02  adabh   \n",
              "3          4S1  75\\04\\02  ejtem   \n",
              "4          5S1  75\\04\\02  elmfa   \n",
              "...        ...       ...    ...   \n",
              "27813  27814S1  76\\06\\20  gungn   \n",
              "27814  27815S1  76\\06\\20  gungn   \n",
              "27815  27816S1  76\\06\\20  gungn   \n",
              "27816  27817S1  76\\06\\20  gungn   \n",
              "27817  27818S1  76\\06\\20  gungn   \n",
              "\n",
              "                                                    text  catId  \n",
              "0      جاودانگي در زندگي گروهي از طريق هنر نگاهي به ن...      0  \n",
              "1      رويدادهاي هنري جهان نمايشگاه هنر در خدمت ديكتا...      0  \n",
              "2      برديوار نگارخانه ها گالري گلستان  نمايشگاه طرح...      0  \n",
              "3      بازي را جدي بگيريم مطالعه اي مقدماتي پيرامون ن...      1  \n",
              "4      تخته سياه و غباري كه سترده نمي شود    اشاره  ب...      2  \n",
              "...                                                  ...    ...  \n",
              "27813  گشتي در دنياي خبرها ماليات براي گدايي بوخارست ...     11  \n",
              "27814  تا رفع اختلال از خطوط ارتباطي 125 شماره تلفن ه...     11  \n",
              "27815  كلاسهاي جديد ديابتي ها انجمن ديابت ايران اعلام...     11  \n",
              "27816  كلاسهاي مشاوره روانشناسي نشست هاي يكروزه روانش...     11  \n",
              "27817  برپايي مركز مشاوره جلسات مشاوره خانواده  جوانا...     11  \n",
              "\n",
              "[27818 rows x 5 columns]"
            ],
            "text/html": [
              "\n",
              "  <div id=\"df-8c7abb9f-b732-4820-9b0d-bf1654bbb94f\">\n",
              "    <div class=\"colab-df-container\">\n",
              "      <div>\n",
              "<style scoped>\n",
              "    .dataframe tbody tr th:only-of-type {\n",
              "        vertical-align: middle;\n",
              "    }\n",
              "\n",
              "    .dataframe tbody tr th {\n",
              "        vertical-align: top;\n",
              "    }\n",
              "\n",
              "    .dataframe thead th {\n",
              "        text-align: right;\n",
              "    }\n",
              "</style>\n",
              "<table border=\"1\" class=\"dataframe\">\n",
              "  <thead>\n",
              "    <tr style=\"text-align: right;\">\n",
              "      <th></th>\n",
              "      <th>id</th>\n",
              "      <th>date</th>\n",
              "      <th>cat</th>\n",
              "      <th>text</th>\n",
              "      <th>catId</th>\n",
              "    </tr>\n",
              "  </thead>\n",
              "  <tbody>\n",
              "    <tr>\n",
              "      <th>0</th>\n",
              "      <td>1S1</td>\n",
              "      <td>75\\04\\02</td>\n",
              "      <td>adabh</td>\n",
              "      <td>جاودانگي در زندگي گروهي از طريق هنر نگاهي به ن...</td>\n",
              "      <td>0</td>\n",
              "    </tr>\n",
              "    <tr>\n",
              "      <th>1</th>\n",
              "      <td>2S1</td>\n",
              "      <td>75\\04\\02</td>\n",
              "      <td>adabh</td>\n",
              "      <td>رويدادهاي هنري جهان نمايشگاه هنر در خدمت ديكتا...</td>\n",
              "      <td>0</td>\n",
              "    </tr>\n",
              "    <tr>\n",
              "      <th>2</th>\n",
              "      <td>3S1</td>\n",
              "      <td>75\\04\\02</td>\n",
              "      <td>adabh</td>\n",
              "      <td>برديوار نگارخانه ها گالري گلستان  نمايشگاه طرح...</td>\n",
              "      <td>0</td>\n",
              "    </tr>\n",
              "    <tr>\n",
              "      <th>3</th>\n",
              "      <td>4S1</td>\n",
              "      <td>75\\04\\02</td>\n",
              "      <td>ejtem</td>\n",
              "      <td>بازي را جدي بگيريم مطالعه اي مقدماتي پيرامون ن...</td>\n",
              "      <td>1</td>\n",
              "    </tr>\n",
              "    <tr>\n",
              "      <th>4</th>\n",
              "      <td>5S1</td>\n",
              "      <td>75\\04\\02</td>\n",
              "      <td>elmfa</td>\n",
              "      <td>تخته سياه و غباري كه سترده نمي شود    اشاره  ب...</td>\n",
              "      <td>2</td>\n",
              "    </tr>\n",
              "    <tr>\n",
              "      <th>...</th>\n",
              "      <td>...</td>\n",
              "      <td>...</td>\n",
              "      <td>...</td>\n",
              "      <td>...</td>\n",
              "      <td>...</td>\n",
              "    </tr>\n",
              "    <tr>\n",
              "      <th>27813</th>\n",
              "      <td>27814S1</td>\n",
              "      <td>76\\06\\20</td>\n",
              "      <td>gungn</td>\n",
              "      <td>گشتي در دنياي خبرها ماليات براي گدايي بوخارست ...</td>\n",
              "      <td>11</td>\n",
              "    </tr>\n",
              "    <tr>\n",
              "      <th>27814</th>\n",
              "      <td>27815S1</td>\n",
              "      <td>76\\06\\20</td>\n",
              "      <td>gungn</td>\n",
              "      <td>تا رفع اختلال از خطوط ارتباطي 125 شماره تلفن ه...</td>\n",
              "      <td>11</td>\n",
              "    </tr>\n",
              "    <tr>\n",
              "      <th>27815</th>\n",
              "      <td>27816S1</td>\n",
              "      <td>76\\06\\20</td>\n",
              "      <td>gungn</td>\n",
              "      <td>كلاسهاي جديد ديابتي ها انجمن ديابت ايران اعلام...</td>\n",
              "      <td>11</td>\n",
              "    </tr>\n",
              "    <tr>\n",
              "      <th>27816</th>\n",
              "      <td>27817S1</td>\n",
              "      <td>76\\06\\20</td>\n",
              "      <td>gungn</td>\n",
              "      <td>كلاسهاي مشاوره روانشناسي نشست هاي يكروزه روانش...</td>\n",
              "      <td>11</td>\n",
              "    </tr>\n",
              "    <tr>\n",
              "      <th>27817</th>\n",
              "      <td>27818S1</td>\n",
              "      <td>76\\06\\20</td>\n",
              "      <td>gungn</td>\n",
              "      <td>برپايي مركز مشاوره جلسات مشاوره خانواده  جوانا...</td>\n",
              "      <td>11</td>\n",
              "    </tr>\n",
              "  </tbody>\n",
              "</table>\n",
              "<p>27818 rows × 5 columns</p>\n",
              "</div>\n",
              "      <button class=\"colab-df-convert\" onclick=\"convertToInteractive('df-8c7abb9f-b732-4820-9b0d-bf1654bbb94f')\"\n",
              "              title=\"Convert this dataframe to an interactive table.\"\n",
              "              style=\"display:none;\">\n",
              "        \n",
              "  <svg xmlns=\"http://www.w3.org/2000/svg\" height=\"24px\"viewBox=\"0 0 24 24\"\n",
              "       width=\"24px\">\n",
              "    <path d=\"M0 0h24v24H0V0z\" fill=\"none\"/>\n",
              "    <path d=\"M18.56 5.44l.94 2.06.94-2.06 2.06-.94-2.06-.94-.94-2.06-.94 2.06-2.06.94zm-11 1L8.5 8.5l.94-2.06 2.06-.94-2.06-.94L8.5 2.5l-.94 2.06-2.06.94zm10 10l.94 2.06.94-2.06 2.06-.94-2.06-.94-.94-2.06-.94 2.06-2.06.94z\"/><path d=\"M17.41 7.96l-1.37-1.37c-.4-.4-.92-.59-1.43-.59-.52 0-1.04.2-1.43.59L10.3 9.45l-7.72 7.72c-.78.78-.78 2.05 0 2.83L4 21.41c.39.39.9.59 1.41.59.51 0 1.02-.2 1.41-.59l7.78-7.78 2.81-2.81c.8-.78.8-2.07 0-2.86zM5.41 20L4 18.59l7.72-7.72 1.47 1.35L5.41 20z\"/>\n",
              "  </svg>\n",
              "      </button>\n",
              "      \n",
              "  <style>\n",
              "    .colab-df-container {\n",
              "      display:flex;\n",
              "      flex-wrap:wrap;\n",
              "      gap: 12px;\n",
              "    }\n",
              "\n",
              "    .colab-df-convert {\n",
              "      background-color: #E8F0FE;\n",
              "      border: none;\n",
              "      border-radius: 50%;\n",
              "      cursor: pointer;\n",
              "      display: none;\n",
              "      fill: #1967D2;\n",
              "      height: 32px;\n",
              "      padding: 0 0 0 0;\n",
              "      width: 32px;\n",
              "    }\n",
              "\n",
              "    .colab-df-convert:hover {\n",
              "      background-color: #E2EBFA;\n",
              "      box-shadow: 0px 1px 2px rgba(60, 64, 67, 0.3), 0px 1px 3px 1px rgba(60, 64, 67, 0.15);\n",
              "      fill: #174EA6;\n",
              "    }\n",
              "\n",
              "    [theme=dark] .colab-df-convert {\n",
              "      background-color: #3B4455;\n",
              "      fill: #D2E3FC;\n",
              "    }\n",
              "\n",
              "    [theme=dark] .colab-df-convert:hover {\n",
              "      background-color: #434B5C;\n",
              "      box-shadow: 0px 1px 3px 1px rgba(0, 0, 0, 0.15);\n",
              "      filter: drop-shadow(0px 1px 2px rgba(0, 0, 0, 0.3));\n",
              "      fill: #FFFFFF;\n",
              "    }\n",
              "  </style>\n",
              "\n",
              "      <script>\n",
              "        const buttonEl =\n",
              "          document.querySelector('#df-8c7abb9f-b732-4820-9b0d-bf1654bbb94f button.colab-df-convert');\n",
              "        buttonEl.style.display =\n",
              "          google.colab.kernel.accessAllowed ? 'block' : 'none';\n",
              "\n",
              "        async function convertToInteractive(key) {\n",
              "          const element = document.querySelector('#df-8c7abb9f-b732-4820-9b0d-bf1654bbb94f');\n",
              "          const dataTable =\n",
              "            await google.colab.kernel.invokeFunction('convertToInteractive',\n",
              "                                                     [key], {});\n",
              "          if (!dataTable) return;\n",
              "\n",
              "          const docLinkHtml = 'Like what you see? Visit the ' +\n",
              "            '<a target=\"_blank\" href=https://colab.research.google.com/notebooks/data_table.ipynb>data table notebook</a>'\n",
              "            + ' to learn more about interactive tables.';\n",
              "          element.innerHTML = '';\n",
              "          dataTable['output_type'] = 'display_data';\n",
              "          await google.colab.output.renderOutput(dataTable, element);\n",
              "          const docLink = document.createElement('div');\n",
              "          docLink.innerHTML = docLinkHtml;\n",
              "          element.appendChild(docLink);\n",
              "        }\n",
              "      </script>\n",
              "    </div>\n",
              "  </div>\n",
              "  "
            ]
          },
          "metadata": {},
          "execution_count": 17
        }
      ]
    },
    {
      "cell_type": "markdown",
      "metadata": {
        "id": "m5fOOfG2YVTX"
      },
      "source": [
        "##declared dependent and independent value"
      ]
    },
    {
      "cell_type": "code",
      "metadata": {
        "id": "P3M2y_eYMOlv"
      },
      "source": [
        "x = dataset['text']\n",
        "y = dataset['cat']"
      ],
      "execution_count": 18,
      "outputs": []
    },
    {
      "cell_type": "markdown",
      "metadata": {
        "id": "uTfKgJSnYkXd"
      },
      "source": [
        "##create and fit bag of words model"
      ]
    },
    {
      "cell_type": "code",
      "metadata": {
        "colab": {
          "base_uri": "https://localhost:8080/"
        },
        "id": "PYUbqZKv-8q9",
        "outputId": "de0065e1-7493-48f5-a08d-7ac241688249"
      },
      "source": [
        "from sklearn.feature_extraction.text import CountVectorizer\n",
        "\n",
        "x = np.array(dataset.iloc[:,0].values)\n",
        "y = np.array(dataset.catId.values)\n",
        "\n",
        "cv = CountVectorizer(max_features = 5000)\n",
        "x = cv.fit_transform(dataset.text).toarray()\n",
        "\n",
        "print(\"X.shape = \",x.shape)\n",
        "print(\"y.shape = \",y.shape)"
      ],
      "execution_count": 19,
      "outputs": [
        {
          "output_type": "stream",
          "name": "stdout",
          "text": [
            "X.shape =  (27818, 5000)\n",
            "y.shape =  (27818,)\n"
          ]
        }
      ]
    },
    {
      "cell_type": "code",
      "metadata": {
        "colab": {
          "base_uri": "https://localhost:8080/"
        },
        "id": "znS7NbjYDHja",
        "outputId": "cde780e6-3b1c-429e-f0f8-2f0d4952cd26"
      },
      "source": [
        "print(x)"
      ],
      "execution_count": 20,
      "outputs": [
        {
          "output_type": "stream",
          "name": "stdout",
          "text": [
            "[[0 0 0 ... 0 0 0]\n",
            " [0 0 0 ... 0 0 0]\n",
            " [1 0 0 ... 0 1 0]\n",
            " ...\n",
            " [0 0 0 ... 0 0 0]\n",
            " [0 0 0 ... 0 0 0]\n",
            " [0 0 0 ... 0 0 0]]\n"
          ]
        }
      ]
    },
    {
      "cell_type": "markdown",
      "metadata": {
        "id": "nrtioxo4EiQe"
      },
      "source": [
        "##train test and split the dataset into training and test set"
      ]
    },
    {
      "cell_type": "code",
      "metadata": {
        "id": "KIcjgZ6966vx",
        "colab": {
          "base_uri": "https://localhost:8080/"
        },
        "outputId": "66604a82-9776-4dd9-a8df-65ab7dde67d3"
      },
      "source": [
        "from sklearn.model_selection import train_test_split\n",
        "x_train, x_test, y_train, y_test = train_test_split(x, y, test_size = 0.3, random_state = 0, shuffle = True)\n",
        "\n",
        "\n",
        "print(len(x_train))\n",
        "print(len(x_test))\n"
      ],
      "execution_count": 21,
      "outputs": [
        {
          "output_type": "stream",
          "name": "stdout",
          "text": [
            "19472\n",
            "8346\n"
          ]
        }
      ]
    },
    {
      "cell_type": "code",
      "metadata": {
        "id": "SZEH5cghJm-G",
        "colab": {
          "base_uri": "https://localhost:8080/"
        },
        "outputId": "3c78ef49-afaa-4d69-8a97-85a09326eae1"
      },
      "source": [
        "print(x_train)"
      ],
      "execution_count": 22,
      "outputs": [
        {
          "output_type": "stream",
          "name": "stdout",
          "text": [
            "[[0 0 0 ... 0 0 0]\n",
            " [0 0 0 ... 0 0 0]\n",
            " [0 0 0 ... 0 0 0]\n",
            " ...\n",
            " [0 0 0 ... 0 0 0]\n",
            " [0 0 0 ... 0 0 0]\n",
            " [0 0 0 ... 0 0 0]]\n"
          ]
        }
      ]
    },
    {
      "cell_type": "markdown",
      "metadata": {
        "id": "tkJXT9C_MWVO"
      },
      "source": [
        "#**Data Preprocessing**"
      ]
    },
    {
      "cell_type": "markdown",
      "metadata": {
        "id": "TSyuCAFbXLIB"
      },
      "source": [
        "##create empty list"
      ]
    },
    {
      "cell_type": "code",
      "metadata": {
        "id": "9N1R4U8FMV79"
      },
      "source": [
        "#create list of model and accuracy dicts\n",
        "perform_list = []"
      ],
      "execution_count": 23,
      "outputs": []
    },
    {
      "cell_type": "markdown",
      "metadata": {
        "id": "_3s-k4hhXRsO"
      },
      "source": [
        "##create, fit and predict all Machine learning model"
      ]
    },
    {
      "cell_type": "code",
      "metadata": {
        "id": "TpNStDdCMina"
      },
      "source": [
        "def run_model(model_name, est_c, est_pnlty):\n",
        "    mdl = LogisticRegression()\n",
        "   \n",
        "    oneVsRest = OneVsRestClassifier(mdl)\n",
        "    oneVsRest.fit(x, y)\n",
        "    y_pred = oneVsRest.predict(x_test)\n",
        "    \n",
        "    \n",
        "    # Performance metrics\n",
        "    accuracy = round(accuracy_score(y_test, y_pred) * 100, 2)\n",
        "    # Get precision, recall, f1 scores\n",
        "    precision, recall, f1score, support = score(y_test, y_pred, average='micro')\n",
        "\n",
        "    print(f'Test Accuracy Score of Basic {model_name}: % {accuracy}')\n",
        "    print(f'Precision : {precision}')\n",
        "    print(f'Recall    : {recall}')\n",
        "    print(f'F1-score   : {f1score}')\n",
        "\n",
        "    # Add performance parameters to list\n",
        "    perform_list.append(dict([\n",
        "        ('Model', model_name),\n",
        "        ('Test Accuracy', round(accuracy, 2)),\n",
        "        ('Precision', round(precision, 2)),\n",
        "        ('Recall', round(recall, 2)),\n",
        "        ('F1', round(f1score, 2))\n",
        "         ]))"
      ],
      "execution_count": 24,
      "outputs": []
    },
    {
      "cell_type": "markdown",
      "metadata": {
        "id": "Q6ottVX7XYwj"
      },
      "source": [
        "##Logistic Regression"
      ]
    },
    {
      "cell_type": "code",
      "metadata": {
        "id": "1rypMzVAOoak",
        "colab": {
          "base_uri": "https://localhost:8080/"
        },
        "outputId": "a7055175-8ebf-4529-f703-2398a97f8012"
      },
      "source": [
        "run_model('Logistic Regression', est_c=None, est_pnlty=None)"
      ],
      "execution_count": 25,
      "outputs": [
        {
          "output_type": "stream",
          "name": "stderr",
          "text": [
            "/usr/local/lib/python3.7/dist-packages/sklearn/linear_model/_logistic.py:818: ConvergenceWarning: lbfgs failed to converge (status=1):\n",
            "STOP: TOTAL NO. of ITERATIONS REACHED LIMIT.\n",
            "\n",
            "Increase the number of iterations (max_iter) or scale the data as shown in:\n",
            "    https://scikit-learn.org/stable/modules/preprocessing.html\n",
            "Please also refer to the documentation for alternative solver options:\n",
            "    https://scikit-learn.org/stable/modules/linear_model.html#logistic-regression\n",
            "  extra_warning_msg=_LOGISTIC_SOLVER_CONVERGENCE_MSG,\n",
            "/usr/local/lib/python3.7/dist-packages/sklearn/linear_model/_logistic.py:818: ConvergenceWarning: lbfgs failed to converge (status=1):\n",
            "STOP: TOTAL NO. of ITERATIONS REACHED LIMIT.\n",
            "\n",
            "Increase the number of iterations (max_iter) or scale the data as shown in:\n",
            "    https://scikit-learn.org/stable/modules/preprocessing.html\n",
            "Please also refer to the documentation for alternative solver options:\n",
            "    https://scikit-learn.org/stable/modules/linear_model.html#logistic-regression\n",
            "  extra_warning_msg=_LOGISTIC_SOLVER_CONVERGENCE_MSG,\n",
            "/usr/local/lib/python3.7/dist-packages/sklearn/linear_model/_logistic.py:818: ConvergenceWarning: lbfgs failed to converge (status=1):\n",
            "STOP: TOTAL NO. of ITERATIONS REACHED LIMIT.\n",
            "\n",
            "Increase the number of iterations (max_iter) or scale the data as shown in:\n",
            "    https://scikit-learn.org/stable/modules/preprocessing.html\n",
            "Please also refer to the documentation for alternative solver options:\n",
            "    https://scikit-learn.org/stable/modules/linear_model.html#logistic-regression\n",
            "  extra_warning_msg=_LOGISTIC_SOLVER_CONVERGENCE_MSG,\n",
            "/usr/local/lib/python3.7/dist-packages/sklearn/linear_model/_logistic.py:818: ConvergenceWarning: lbfgs failed to converge (status=1):\n",
            "STOP: TOTAL NO. of ITERATIONS REACHED LIMIT.\n",
            "\n",
            "Increase the number of iterations (max_iter) or scale the data as shown in:\n",
            "    https://scikit-learn.org/stable/modules/preprocessing.html\n",
            "Please also refer to the documentation for alternative solver options:\n",
            "    https://scikit-learn.org/stable/modules/linear_model.html#logistic-regression\n",
            "  extra_warning_msg=_LOGISTIC_SOLVER_CONVERGENCE_MSG,\n",
            "/usr/local/lib/python3.7/dist-packages/sklearn/linear_model/_logistic.py:818: ConvergenceWarning: lbfgs failed to converge (status=1):\n",
            "STOP: TOTAL NO. of ITERATIONS REACHED LIMIT.\n",
            "\n",
            "Increase the number of iterations (max_iter) or scale the data as shown in:\n",
            "    https://scikit-learn.org/stable/modules/preprocessing.html\n",
            "Please also refer to the documentation for alternative solver options:\n",
            "    https://scikit-learn.org/stable/modules/linear_model.html#logistic-regression\n",
            "  extra_warning_msg=_LOGISTIC_SOLVER_CONVERGENCE_MSG,\n",
            "/usr/local/lib/python3.7/dist-packages/sklearn/linear_model/_logistic.py:818: ConvergenceWarning: lbfgs failed to converge (status=1):\n",
            "STOP: TOTAL NO. of ITERATIONS REACHED LIMIT.\n",
            "\n",
            "Increase the number of iterations (max_iter) or scale the data as shown in:\n",
            "    https://scikit-learn.org/stable/modules/preprocessing.html\n",
            "Please also refer to the documentation for alternative solver options:\n",
            "    https://scikit-learn.org/stable/modules/linear_model.html#logistic-regression\n",
            "  extra_warning_msg=_LOGISTIC_SOLVER_CONVERGENCE_MSG,\n",
            "/usr/local/lib/python3.7/dist-packages/sklearn/linear_model/_logistic.py:818: ConvergenceWarning: lbfgs failed to converge (status=1):\n",
            "STOP: TOTAL NO. of ITERATIONS REACHED LIMIT.\n",
            "\n",
            "Increase the number of iterations (max_iter) or scale the data as shown in:\n",
            "    https://scikit-learn.org/stable/modules/preprocessing.html\n",
            "Please also refer to the documentation for alternative solver options:\n",
            "    https://scikit-learn.org/stable/modules/linear_model.html#logistic-regression\n",
            "  extra_warning_msg=_LOGISTIC_SOLVER_CONVERGENCE_MSG,\n",
            "/usr/local/lib/python3.7/dist-packages/sklearn/linear_model/_logistic.py:818: ConvergenceWarning: lbfgs failed to converge (status=1):\n",
            "STOP: TOTAL NO. of ITERATIONS REACHED LIMIT.\n",
            "\n",
            "Increase the number of iterations (max_iter) or scale the data as shown in:\n",
            "    https://scikit-learn.org/stable/modules/preprocessing.html\n",
            "Please also refer to the documentation for alternative solver options:\n",
            "    https://scikit-learn.org/stable/modules/linear_model.html#logistic-regression\n",
            "  extra_warning_msg=_LOGISTIC_SOLVER_CONVERGENCE_MSG,\n",
            "/usr/local/lib/python3.7/dist-packages/sklearn/linear_model/_logistic.py:818: ConvergenceWarning: lbfgs failed to converge (status=1):\n",
            "STOP: TOTAL NO. of ITERATIONS REACHED LIMIT.\n",
            "\n",
            "Increase the number of iterations (max_iter) or scale the data as shown in:\n",
            "    https://scikit-learn.org/stable/modules/preprocessing.html\n",
            "Please also refer to the documentation for alternative solver options:\n",
            "    https://scikit-learn.org/stable/modules/linear_model.html#logistic-regression\n",
            "  extra_warning_msg=_LOGISTIC_SOLVER_CONVERGENCE_MSG,\n",
            "/usr/local/lib/python3.7/dist-packages/sklearn/linear_model/_logistic.py:818: ConvergenceWarning: lbfgs failed to converge (status=1):\n",
            "STOP: TOTAL NO. of ITERATIONS REACHED LIMIT.\n",
            "\n",
            "Increase the number of iterations (max_iter) or scale the data as shown in:\n",
            "    https://scikit-learn.org/stable/modules/preprocessing.html\n",
            "Please also refer to the documentation for alternative solver options:\n",
            "    https://scikit-learn.org/stable/modules/linear_model.html#logistic-regression\n",
            "  extra_warning_msg=_LOGISTIC_SOLVER_CONVERGENCE_MSG,\n",
            "/usr/local/lib/python3.7/dist-packages/sklearn/linear_model/_logistic.py:818: ConvergenceWarning: lbfgs failed to converge (status=1):\n",
            "STOP: TOTAL NO. of ITERATIONS REACHED LIMIT.\n",
            "\n",
            "Increase the number of iterations (max_iter) or scale the data as shown in:\n",
            "    https://scikit-learn.org/stable/modules/preprocessing.html\n",
            "Please also refer to the documentation for alternative solver options:\n",
            "    https://scikit-learn.org/stable/modules/linear_model.html#logistic-regression\n",
            "  extra_warning_msg=_LOGISTIC_SOLVER_CONVERGENCE_MSG,\n",
            "/usr/local/lib/python3.7/dist-packages/sklearn/linear_model/_logistic.py:818: ConvergenceWarning: lbfgs failed to converge (status=1):\n",
            "STOP: TOTAL NO. of ITERATIONS REACHED LIMIT.\n",
            "\n",
            "Increase the number of iterations (max_iter) or scale the data as shown in:\n",
            "    https://scikit-learn.org/stable/modules/preprocessing.html\n",
            "Please also refer to the documentation for alternative solver options:\n",
            "    https://scikit-learn.org/stable/modules/linear_model.html#logistic-regression\n",
            "  extra_warning_msg=_LOGISTIC_SOLVER_CONVERGENCE_MSG,\n",
            "/usr/local/lib/python3.7/dist-packages/sklearn/linear_model/_logistic.py:818: ConvergenceWarning: lbfgs failed to converge (status=1):\n",
            "STOP: TOTAL NO. of ITERATIONS REACHED LIMIT.\n",
            "\n",
            "Increase the number of iterations (max_iter) or scale the data as shown in:\n",
            "    https://scikit-learn.org/stable/modules/preprocessing.html\n",
            "Please also refer to the documentation for alternative solver options:\n",
            "    https://scikit-learn.org/stable/modules/linear_model.html#logistic-regression\n",
            "  extra_warning_msg=_LOGISTIC_SOLVER_CONVERGENCE_MSG,\n",
            "/usr/local/lib/python3.7/dist-packages/sklearn/linear_model/_logistic.py:818: ConvergenceWarning: lbfgs failed to converge (status=1):\n",
            "STOP: TOTAL NO. of ITERATIONS REACHED LIMIT.\n",
            "\n",
            "Increase the number of iterations (max_iter) or scale the data as shown in:\n",
            "    https://scikit-learn.org/stable/modules/preprocessing.html\n",
            "Please also refer to the documentation for alternative solver options:\n",
            "    https://scikit-learn.org/stable/modules/linear_model.html#logistic-regression\n",
            "  extra_warning_msg=_LOGISTIC_SOLVER_CONVERGENCE_MSG,\n",
            "/usr/local/lib/python3.7/dist-packages/sklearn/linear_model/_logistic.py:818: ConvergenceWarning: lbfgs failed to converge (status=1):\n",
            "STOP: TOTAL NO. of ITERATIONS REACHED LIMIT.\n",
            "\n",
            "Increase the number of iterations (max_iter) or scale the data as shown in:\n",
            "    https://scikit-learn.org/stable/modules/preprocessing.html\n",
            "Please also refer to the documentation for alternative solver options:\n",
            "    https://scikit-learn.org/stable/modules/linear_model.html#logistic-regression\n",
            "  extra_warning_msg=_LOGISTIC_SOLVER_CONVERGENCE_MSG,\n",
            "/usr/local/lib/python3.7/dist-packages/sklearn/linear_model/_logistic.py:818: ConvergenceWarning: lbfgs failed to converge (status=1):\n",
            "STOP: TOTAL NO. of ITERATIONS REACHED LIMIT.\n",
            "\n",
            "Increase the number of iterations (max_iter) or scale the data as shown in:\n",
            "    https://scikit-learn.org/stable/modules/preprocessing.html\n",
            "Please also refer to the documentation for alternative solver options:\n",
            "    https://scikit-learn.org/stable/modules/linear_model.html#logistic-regression\n",
            "  extra_warning_msg=_LOGISTIC_SOLVER_CONVERGENCE_MSG,\n"
          ]
        },
        {
          "output_type": "stream",
          "name": "stdout",
          "text": [
            "Test Accuracy Score of Basic Logistic Regression: % 97.63\n",
            "Precision : 0.9762760603882099\n",
            "Recall    : 0.9762760603882099\n",
            "F1-score   : 0.9762760603882099\n"
          ]
        }
      ]
    },
    {
      "cell_type": "markdown",
      "metadata": {
        "id": "u0MmCbR3XuIW"
      },
      "source": [
        "##create dataframe of model, accuracy, precision,recall and f1"
      ]
    },
    {
      "cell_type": "code",
      "metadata": {
        "id": "fBdDDSbsPCns",
        "colab": {
          "base_uri": "https://localhost:8080/",
          "height": 81
        },
        "outputId": "abef61ff-d3a4-4b3b-8e97-a168c00a95ad"
      },
      "source": [
        "model_performance = pd.DataFrame(data=perform_list)\n",
        "model_performance = model_performance[['Model', 'Test Accuracy', 'Precision', 'Recall', 'F1']]\n",
        "model_performance"
      ],
      "execution_count": 26,
      "outputs": [
        {
          "output_type": "execute_result",
          "data": {
            "text/plain": [
              "                 Model  Test Accuracy  Precision  Recall    F1\n",
              "0  Logistic Regression          97.63       0.98    0.98  0.98"
            ],
            "text/html": [
              "\n",
              "  <div id=\"df-6cac38f3-1d53-456a-ac2a-178542cab374\">\n",
              "    <div class=\"colab-df-container\">\n",
              "      <div>\n",
              "<style scoped>\n",
              "    .dataframe tbody tr th:only-of-type {\n",
              "        vertical-align: middle;\n",
              "    }\n",
              "\n",
              "    .dataframe tbody tr th {\n",
              "        vertical-align: top;\n",
              "    }\n",
              "\n",
              "    .dataframe thead th {\n",
              "        text-align: right;\n",
              "    }\n",
              "</style>\n",
              "<table border=\"1\" class=\"dataframe\">\n",
              "  <thead>\n",
              "    <tr style=\"text-align: right;\">\n",
              "      <th></th>\n",
              "      <th>Model</th>\n",
              "      <th>Test Accuracy</th>\n",
              "      <th>Precision</th>\n",
              "      <th>Recall</th>\n",
              "      <th>F1</th>\n",
              "    </tr>\n",
              "  </thead>\n",
              "  <tbody>\n",
              "    <tr>\n",
              "      <th>0</th>\n",
              "      <td>Logistic Regression</td>\n",
              "      <td>97.63</td>\n",
              "      <td>0.98</td>\n",
              "      <td>0.98</td>\n",
              "      <td>0.98</td>\n",
              "    </tr>\n",
              "  </tbody>\n",
              "</table>\n",
              "</div>\n",
              "      <button class=\"colab-df-convert\" onclick=\"convertToInteractive('df-6cac38f3-1d53-456a-ac2a-178542cab374')\"\n",
              "              title=\"Convert this dataframe to an interactive table.\"\n",
              "              style=\"display:none;\">\n",
              "        \n",
              "  <svg xmlns=\"http://www.w3.org/2000/svg\" height=\"24px\"viewBox=\"0 0 24 24\"\n",
              "       width=\"24px\">\n",
              "    <path d=\"M0 0h24v24H0V0z\" fill=\"none\"/>\n",
              "    <path d=\"M18.56 5.44l.94 2.06.94-2.06 2.06-.94-2.06-.94-.94-2.06-.94 2.06-2.06.94zm-11 1L8.5 8.5l.94-2.06 2.06-.94-2.06-.94L8.5 2.5l-.94 2.06-2.06.94zm10 10l.94 2.06.94-2.06 2.06-.94-2.06-.94-.94-2.06-.94 2.06-2.06.94z\"/><path d=\"M17.41 7.96l-1.37-1.37c-.4-.4-.92-.59-1.43-.59-.52 0-1.04.2-1.43.59L10.3 9.45l-7.72 7.72c-.78.78-.78 2.05 0 2.83L4 21.41c.39.39.9.59 1.41.59.51 0 1.02-.2 1.41-.59l7.78-7.78 2.81-2.81c.8-.78.8-2.07 0-2.86zM5.41 20L4 18.59l7.72-7.72 1.47 1.35L5.41 20z\"/>\n",
              "  </svg>\n",
              "      </button>\n",
              "      \n",
              "  <style>\n",
              "    .colab-df-container {\n",
              "      display:flex;\n",
              "      flex-wrap:wrap;\n",
              "      gap: 12px;\n",
              "    }\n",
              "\n",
              "    .colab-df-convert {\n",
              "      background-color: #E8F0FE;\n",
              "      border: none;\n",
              "      border-radius: 50%;\n",
              "      cursor: pointer;\n",
              "      display: none;\n",
              "      fill: #1967D2;\n",
              "      height: 32px;\n",
              "      padding: 0 0 0 0;\n",
              "      width: 32px;\n",
              "    }\n",
              "\n",
              "    .colab-df-convert:hover {\n",
              "      background-color: #E2EBFA;\n",
              "      box-shadow: 0px 1px 2px rgba(60, 64, 67, 0.3), 0px 1px 3px 1px rgba(60, 64, 67, 0.15);\n",
              "      fill: #174EA6;\n",
              "    }\n",
              "\n",
              "    [theme=dark] .colab-df-convert {\n",
              "      background-color: #3B4455;\n",
              "      fill: #D2E3FC;\n",
              "    }\n",
              "\n",
              "    [theme=dark] .colab-df-convert:hover {\n",
              "      background-color: #434B5C;\n",
              "      box-shadow: 0px 1px 3px 1px rgba(0, 0, 0, 0.15);\n",
              "      filter: drop-shadow(0px 1px 2px rgba(0, 0, 0, 0.3));\n",
              "      fill: #FFFFFF;\n",
              "    }\n",
              "  </style>\n",
              "\n",
              "      <script>\n",
              "        const buttonEl =\n",
              "          document.querySelector('#df-6cac38f3-1d53-456a-ac2a-178542cab374 button.colab-df-convert');\n",
              "        buttonEl.style.display =\n",
              "          google.colab.kernel.accessAllowed ? 'block' : 'none';\n",
              "\n",
              "        async function convertToInteractive(key) {\n",
              "          const element = document.querySelector('#df-6cac38f3-1d53-456a-ac2a-178542cab374');\n",
              "          const dataTable =\n",
              "            await google.colab.kernel.invokeFunction('convertToInteractive',\n",
              "                                                     [key], {});\n",
              "          if (!dataTable) return;\n",
              "\n",
              "          const docLinkHtml = 'Like what you see? Visit the ' +\n",
              "            '<a target=\"_blank\" href=https://colab.research.google.com/notebooks/data_table.ipynb>data table notebook</a>'\n",
              "            + ' to learn more about interactive tables.';\n",
              "          element.innerHTML = '';\n",
              "          dataTable['output_type'] = 'display_data';\n",
              "          await google.colab.output.renderOutput(dataTable, element);\n",
              "          const docLink = document.createElement('div');\n",
              "          docLink.innerHTML = docLinkHtml;\n",
              "          element.appendChild(docLink);\n",
              "        }\n",
              "      </script>\n",
              "    </div>\n",
              "  </div>\n",
              "  "
            ]
          },
          "metadata": {},
          "execution_count": 26
        }
      ]
    },
    {
      "cell_type": "markdown",
      "metadata": {
        "id": "X8y9Cvo6X3L-"
      },
      "source": [
        "##best model to perform accuracy score"
      ]
    },
    {
      "cell_type": "code",
      "metadata": {
        "id": "zoO_rM9WPCkC",
        "colab": {
          "base_uri": "https://localhost:8080/"
        },
        "outputId": "7c7c87d6-4970-43af-f87d-824766d5eef8"
      },
      "source": [
        "model = model_performance[\"Model\"]\n",
        "max_value = model_performance[\"Test Accuracy\"].max()\n",
        "print(\"The best accuracy of model is\", max_value,\"from Logistic Regression\")"
      ],
      "execution_count": 27,
      "outputs": [
        {
          "output_type": "stream",
          "name": "stdout",
          "text": [
            "The best accuracy of model is 97.63 from Logistic Regression\n"
          ]
        }
      ]
    },
    {
      "cell_type": "markdown",
      "metadata": {
        "id": "8jKr_az6YAB5"
      },
      "source": [
        "#Individual train, fit and predict the model"
      ]
    },
    {
      "cell_type": "code",
      "metadata": {
        "id": "SrZcOePkNkLu",
        "colab": {
          "base_uri": "https://localhost:8080/"
        },
        "outputId": "b76723a4-7075-4f0a-d2d7-2cf0e8d336c9"
      },
      "source": [
        "model = LogisticRegression()\n",
        "model.fit(x_train, y_train)"
      ],
      "execution_count": 28,
      "outputs": [
        {
          "output_type": "stream",
          "name": "stderr",
          "text": [
            "/usr/local/lib/python3.7/dist-packages/sklearn/linear_model/_logistic.py:818: ConvergenceWarning: lbfgs failed to converge (status=1):\n",
            "STOP: TOTAL NO. of ITERATIONS REACHED LIMIT.\n",
            "\n",
            "Increase the number of iterations (max_iter) or scale the data as shown in:\n",
            "    https://scikit-learn.org/stable/modules/preprocessing.html\n",
            "Please also refer to the documentation for alternative solver options:\n",
            "    https://scikit-learn.org/stable/modules/linear_model.html#logistic-regression\n",
            "  extra_warning_msg=_LOGISTIC_SOLVER_CONVERGENCE_MSG,\n"
          ]
        },
        {
          "output_type": "execute_result",
          "data": {
            "text/plain": [
              "LogisticRegression()"
            ]
          },
          "metadata": {},
          "execution_count": 28
        }
      ]
    },
    {
      "cell_type": "code",
      "source": [
        "y_pred = model.predict(x_test)\n",
        "score = accuracy_score(y_test, y_pred)\n",
        "# print(pd.DataFrame({'text_test':x_test,'cat_test':y_test}))\n",
        "print(\"accuracy of our model is:\",score)\n",
        "print(classification_report(y_pred, y_test, target_names=target_category))"
      ],
      "metadata": {
        "colab": {
          "base_uri": "https://localhost:8080/"
        },
        "id": "E7clZGSqWK73",
        "outputId": "a95e8b3d-2009-4e1e-a6c8-db5474ffecce"
      },
      "execution_count": 29,
      "outputs": [
        {
          "output_type": "stream",
          "name": "stdout",
          "text": [
            "accuracy of our model is: 0.8124850227653966\n",
            "              precision    recall  f1-score   support\n",
            "\n",
            "       adabh       0.75      0.79      0.77       301\n",
            "       ejtem       0.69      0.70      0.70       198\n",
            "       elmfa       0.62      0.63      0.62       354\n",
            "       eqtes       0.87      0.85      0.86       755\n",
            "       gozar       0.72      0.77      0.75       137\n",
            "       havad       0.60      0.60      0.60       337\n",
            "       kharj       0.93      0.91      0.92      1017\n",
            "       maqal       0.57      0.68      0.62       133\n",
            "       shahr       0.78      0.78      0.78      1766\n",
            "       siasi       0.76      0.83      0.80       740\n",
            "       vrzsh       0.96      0.97      0.97       875\n",
            "       gungn       0.88      0.80      0.84      1476\n",
            "      axrooz       1.00      0.92      0.96       126\n",
            "     cartoon       1.00      1.00      1.00        37\n",
            "       nameh       0.29      0.49      0.36        49\n",
            "       telfn       0.40      0.60      0.48        20\n",
            "       mohit       0.21      0.20      0.20        25\n",
            "       gofgu       0.00      0.00      0.00         0\n",
            "\n",
            "    accuracy                           0.81      8346\n",
            "   macro avg       0.67      0.70      0.68      8346\n",
            "weighted avg       0.82      0.81      0.81      8346\n",
            "\n"
          ]
        },
        {
          "output_type": "stream",
          "name": "stderr",
          "text": [
            "/usr/local/lib/python3.7/dist-packages/sklearn/metrics/_classification.py:1318: UndefinedMetricWarning: Recall and F-score are ill-defined and being set to 0.0 in labels with no true samples. Use `zero_division` parameter to control this behavior.\n",
            "  _warn_prf(average, modifier, msg_start, len(result))\n",
            "/usr/local/lib/python3.7/dist-packages/sklearn/metrics/_classification.py:1318: UndefinedMetricWarning: Recall and F-score are ill-defined and being set to 0.0 in labels with no true samples. Use `zero_division` parameter to control this behavior.\n",
            "  _warn_prf(average, modifier, msg_start, len(result))\n",
            "/usr/local/lib/python3.7/dist-packages/sklearn/metrics/_classification.py:1318: UndefinedMetricWarning: Recall and F-score are ill-defined and being set to 0.0 in labels with no true samples. Use `zero_division` parameter to control this behavior.\n",
            "  _warn_prf(average, modifier, msg_start, len(result))\n"
          ]
        }
      ]
    },
    {
      "cell_type": "code",
      "source": [
        "test_texts = []\n",
        "print(\"Real Categories: \")\n",
        "for i in range(10):\n",
        "  print(dataset['cat'][i])\n",
        "  test_texts.append(dataset['text'][i])\n",
        "y_pred1 = cv.transform(\n",
        "    test_texts\n",
        "  )\n",
        "print(\"Predict Categories: \")\n",
        "yy = model.predict(y_pred1)\n",
        "for i in range(10):\n",
        "  print(category.loc[category['catId'] == yy[i]].iat[0, 0])"
      ],
      "metadata": {
        "colab": {
          "base_uri": "https://localhost:8080/"
        },
        "id": "qaYQiCEUEqU0",
        "outputId": "8cbda436-c0d3-4914-9b46-43d713de01d9"
      },
      "execution_count": 40,
      "outputs": [
        {
          "output_type": "stream",
          "name": "stdout",
          "text": [
            "Real Categories: \n",
            "adabh\n",
            "adabh\n",
            "adabh\n",
            "ejtem\n",
            "elmfa\n",
            "elmfa\n",
            "elmfa\n",
            "elmfa\n",
            "elmfa\n",
            "elmfa\n",
            "Predict Categories: \n",
            "adabh\n",
            "adabh\n",
            "adabh\n",
            "ejtem\n",
            "elmfa\n",
            "shahr\n",
            "elmfa\n",
            "elmfa\n",
            "gungn\n",
            "elmfa\n"
          ]
        }
      ]
    },
    {
      "cell_type": "code",
      "metadata": {
        "id": "XdQDkINiHAmq"
      },
      "source": [
        ""
      ],
      "execution_count": 30,
      "outputs": []
    }
  ]
}